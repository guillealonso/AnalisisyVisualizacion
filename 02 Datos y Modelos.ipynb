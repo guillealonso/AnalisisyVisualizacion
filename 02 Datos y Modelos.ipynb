{
  "nbformat": 4,
  "nbformat_minor": 0,
  "metadata": {
    "colab": {
      "name": "02 Datos y Modelos.ipynb",
      "provenance": [],
      "collapsed_sections": []
    },
    "kernelspec": {
      "name": "python3",
      "display_name": "Python 3"
    }
  },
  "cells": [
    {
      "cell_type": "markdown",
      "metadata": {
        "id": "LYvAOR2VzHmW"
      },
      "source": [
        "\n",
        "**Diplomatura en Ciencia de Datos, Aprendizaje Automático y sus Aplicaciones**\n",
        "\n",
        "**Edición 2022**\n",
        "\n",
        "---\n",
        "\n",
        "# Datos y Modelos\n"
      ]
    },
    {
      "cell_type": "code",
      "metadata": {
        "id": "Xwdfo7z20TUK"
      },
      "source": [
        "import io\n",
        "import matplotlib\n",
        "import matplotlib.pyplot as plt\n",
        "import numpy\n",
        "import pandas as pd\n",
        "import seaborn\n",
        "\n",
        "seaborn.set_context('talk')"
      ],
      "execution_count": 3,
      "outputs": []
    },
    {
      "cell_type": "markdown",
      "metadata": {
        "id": "XY2Hl-Ma07Nn"
      },
      "source": [
        "## Lectura del dataset\n",
        "\n",
        "En la notebook 00 se explican los detalles de la siguiente sección."
      ]
    },
    {
      "cell_type": "code",
      "metadata": {
        "id": "Vviv_sqXdR5W"
      },
      "source": [
        "url = 'https://cs.famaf.unc.edu.ar/~mteruel/datasets/diplodatos/sysarmy_survey_2020_processed.csv'\n",
        "df = pd.read_csv(url)"
      ],
      "execution_count": 4,
      "outputs": []
    },
    {
      "cell_type": "code",
      "metadata": {
        "id": "gckNHXXLktJ4",
        "colab": {
          "base_uri": "https://localhost:8080/",
          "height": 324
        },
        "outputId": "fa3eb19f-6b88-4703-ef49-5102c217d270"
      },
      "source": [
        "df[:3]"
      ],
      "execution_count": 5,
      "outputs": [
        {
          "output_type": "execute_result",
          "data": {
            "text/plain": [
              "  profile_gender  profile_age work_country                    work_province  \\\n",
              "0          Mujer           26    Argentina  Ciudad Autónoma de Buenos Aires   \n",
              "1         Hombre           29    Argentina                       Corrientes   \n",
              "2          Mujer           22    Argentina  Ciudad Autónoma de Buenos Aires   \n",
              "\n",
              "   profile_years_experience  work_years_in_company  \\\n",
              "0                       3.0                    3.0   \n",
              "1                       5.0                    2.0   \n",
              "2                       2.0                    0.0   \n",
              "\n",
              "   work_years_in_current_position  work_people_in_charge_of  \\\n",
              "0                             3.0                         0   \n",
              "1                             2.0                         4   \n",
              "2                             0.0                         0   \n",
              "\n",
              "  profile_studies_level profile_studies_level_state  ...  \\\n",
              "0         Universitario                    En curso  ...   \n",
              "1         Universitario                    En curso  ...   \n",
              "2            Secundario                  Completado  ...   \n",
              "\n",
              "  work_has_violence_situations profile_sexual_orientation  \\\n",
              "0         En mi trabajo actual                 Homosexual   \n",
              "1                        Jamás               Heterosexual   \n",
              "2       En un trabajo anterior           Bisexual o queer   \n",
              "\n",
              "  profile_has_disabilities profile_has_disabilities_hiring_difficulties  \\\n",
              "0                      NaN                                          NaN   \n",
              "1                   Visual                                           No   \n",
              "2                      NaN                                           No   \n",
              "\n",
              "  company_employee_number                          company_main_activity  \\\n",
              "0                501-1000  Servicios / Consultoría de Software / Digital   \n",
              "1                 201-500                               Otras industrias   \n",
              "2               2001-5000                               Otras industrias   \n",
              "\n",
              "  company_recommended company_diversity_policies  \\\n",
              "0                   7                          2   \n",
              "1                   8                          9   \n",
              "2                   6                          9   \n",
              "\n",
              "                              company_extra_benefits  \\\n",
              "0  Capacitaciones y/o cursos, Comidas pagas / sub...   \n",
              "1  Horarios flexibles, Stock options / RSUs, Viát...   \n",
              "2  Clases de gimnasia online, Comidas pagas / sub...   \n",
              "\n",
              "  company_best_companies_city  \n",
              "0                         NaN  \n",
              "1                         NaN  \n",
              "2                         NaN  \n",
              "\n",
              "[3 rows x 48 columns]"
            ],
            "text/html": [
              "\n",
              "  <div id=\"df-ae039c8d-6c15-4e15-8fad-491e29f75b8f\">\n",
              "    <div class=\"colab-df-container\">\n",
              "      <div>\n",
              "<style scoped>\n",
              "    .dataframe tbody tr th:only-of-type {\n",
              "        vertical-align: middle;\n",
              "    }\n",
              "\n",
              "    .dataframe tbody tr th {\n",
              "        vertical-align: top;\n",
              "    }\n",
              "\n",
              "    .dataframe thead th {\n",
              "        text-align: right;\n",
              "    }\n",
              "</style>\n",
              "<table border=\"1\" class=\"dataframe\">\n",
              "  <thead>\n",
              "    <tr style=\"text-align: right;\">\n",
              "      <th></th>\n",
              "      <th>profile_gender</th>\n",
              "      <th>profile_age</th>\n",
              "      <th>work_country</th>\n",
              "      <th>work_province</th>\n",
              "      <th>profile_years_experience</th>\n",
              "      <th>work_years_in_company</th>\n",
              "      <th>work_years_in_current_position</th>\n",
              "      <th>work_people_in_charge_of</th>\n",
              "      <th>profile_studies_level</th>\n",
              "      <th>profile_studies_level_state</th>\n",
              "      <th>...</th>\n",
              "      <th>work_has_violence_situations</th>\n",
              "      <th>profile_sexual_orientation</th>\n",
              "      <th>profile_has_disabilities</th>\n",
              "      <th>profile_has_disabilities_hiring_difficulties</th>\n",
              "      <th>company_employee_number</th>\n",
              "      <th>company_main_activity</th>\n",
              "      <th>company_recommended</th>\n",
              "      <th>company_diversity_policies</th>\n",
              "      <th>company_extra_benefits</th>\n",
              "      <th>company_best_companies_city</th>\n",
              "    </tr>\n",
              "  </thead>\n",
              "  <tbody>\n",
              "    <tr>\n",
              "      <th>0</th>\n",
              "      <td>Mujer</td>\n",
              "      <td>26</td>\n",
              "      <td>Argentina</td>\n",
              "      <td>Ciudad Autónoma de Buenos Aires</td>\n",
              "      <td>3.0</td>\n",
              "      <td>3.0</td>\n",
              "      <td>3.0</td>\n",
              "      <td>0</td>\n",
              "      <td>Universitario</td>\n",
              "      <td>En curso</td>\n",
              "      <td>...</td>\n",
              "      <td>En mi trabajo actual</td>\n",
              "      <td>Homosexual</td>\n",
              "      <td>NaN</td>\n",
              "      <td>NaN</td>\n",
              "      <td>501-1000</td>\n",
              "      <td>Servicios / Consultoría de Software / Digital</td>\n",
              "      <td>7</td>\n",
              "      <td>2</td>\n",
              "      <td>Capacitaciones y/o cursos, Comidas pagas / sub...</td>\n",
              "      <td>NaN</td>\n",
              "    </tr>\n",
              "    <tr>\n",
              "      <th>1</th>\n",
              "      <td>Hombre</td>\n",
              "      <td>29</td>\n",
              "      <td>Argentina</td>\n",
              "      <td>Corrientes</td>\n",
              "      <td>5.0</td>\n",
              "      <td>2.0</td>\n",
              "      <td>2.0</td>\n",
              "      <td>4</td>\n",
              "      <td>Universitario</td>\n",
              "      <td>En curso</td>\n",
              "      <td>...</td>\n",
              "      <td>Jamás</td>\n",
              "      <td>Heterosexual</td>\n",
              "      <td>Visual</td>\n",
              "      <td>No</td>\n",
              "      <td>201-500</td>\n",
              "      <td>Otras industrias</td>\n",
              "      <td>8</td>\n",
              "      <td>9</td>\n",
              "      <td>Horarios flexibles, Stock options / RSUs, Viát...</td>\n",
              "      <td>NaN</td>\n",
              "    </tr>\n",
              "    <tr>\n",
              "      <th>2</th>\n",
              "      <td>Mujer</td>\n",
              "      <td>22</td>\n",
              "      <td>Argentina</td>\n",
              "      <td>Ciudad Autónoma de Buenos Aires</td>\n",
              "      <td>2.0</td>\n",
              "      <td>0.0</td>\n",
              "      <td>0.0</td>\n",
              "      <td>0</td>\n",
              "      <td>Secundario</td>\n",
              "      <td>Completado</td>\n",
              "      <td>...</td>\n",
              "      <td>En un trabajo anterior</td>\n",
              "      <td>Bisexual o queer</td>\n",
              "      <td>NaN</td>\n",
              "      <td>No</td>\n",
              "      <td>2001-5000</td>\n",
              "      <td>Otras industrias</td>\n",
              "      <td>6</td>\n",
              "      <td>9</td>\n",
              "      <td>Clases de gimnasia online, Comidas pagas / sub...</td>\n",
              "      <td>NaN</td>\n",
              "    </tr>\n",
              "  </tbody>\n",
              "</table>\n",
              "<p>3 rows × 48 columns</p>\n",
              "</div>\n",
              "      <button class=\"colab-df-convert\" onclick=\"convertToInteractive('df-ae039c8d-6c15-4e15-8fad-491e29f75b8f')\"\n",
              "              title=\"Convert this dataframe to an interactive table.\"\n",
              "              style=\"display:none;\">\n",
              "        \n",
              "  <svg xmlns=\"http://www.w3.org/2000/svg\" height=\"24px\"viewBox=\"0 0 24 24\"\n",
              "       width=\"24px\">\n",
              "    <path d=\"M0 0h24v24H0V0z\" fill=\"none\"/>\n",
              "    <path d=\"M18.56 5.44l.94 2.06.94-2.06 2.06-.94-2.06-.94-.94-2.06-.94 2.06-2.06.94zm-11 1L8.5 8.5l.94-2.06 2.06-.94-2.06-.94L8.5 2.5l-.94 2.06-2.06.94zm10 10l.94 2.06.94-2.06 2.06-.94-2.06-.94-.94-2.06-.94 2.06-2.06.94z\"/><path d=\"M17.41 7.96l-1.37-1.37c-.4-.4-.92-.59-1.43-.59-.52 0-1.04.2-1.43.59L10.3 9.45l-7.72 7.72c-.78.78-.78 2.05 0 2.83L4 21.41c.39.39.9.59 1.41.59.51 0 1.02-.2 1.41-.59l7.78-7.78 2.81-2.81c.8-.78.8-2.07 0-2.86zM5.41 20L4 18.59l7.72-7.72 1.47 1.35L5.41 20z\"/>\n",
              "  </svg>\n",
              "      </button>\n",
              "      \n",
              "  <style>\n",
              "    .colab-df-container {\n",
              "      display:flex;\n",
              "      flex-wrap:wrap;\n",
              "      gap: 12px;\n",
              "    }\n",
              "\n",
              "    .colab-df-convert {\n",
              "      background-color: #E8F0FE;\n",
              "      border: none;\n",
              "      border-radius: 50%;\n",
              "      cursor: pointer;\n",
              "      display: none;\n",
              "      fill: #1967D2;\n",
              "      height: 32px;\n",
              "      padding: 0 0 0 0;\n",
              "      width: 32px;\n",
              "    }\n",
              "\n",
              "    .colab-df-convert:hover {\n",
              "      background-color: #E2EBFA;\n",
              "      box-shadow: 0px 1px 2px rgba(60, 64, 67, 0.3), 0px 1px 3px 1px rgba(60, 64, 67, 0.15);\n",
              "      fill: #174EA6;\n",
              "    }\n",
              "\n",
              "    [theme=dark] .colab-df-convert {\n",
              "      background-color: #3B4455;\n",
              "      fill: #D2E3FC;\n",
              "    }\n",
              "\n",
              "    [theme=dark] .colab-df-convert:hover {\n",
              "      background-color: #434B5C;\n",
              "      box-shadow: 0px 1px 3px 1px rgba(0, 0, 0, 0.15);\n",
              "      filter: drop-shadow(0px 1px 2px rgba(0, 0, 0, 0.3));\n",
              "      fill: #FFFFFF;\n",
              "    }\n",
              "  </style>\n",
              "\n",
              "      <script>\n",
              "        const buttonEl =\n",
              "          document.querySelector('#df-ae039c8d-6c15-4e15-8fad-491e29f75b8f button.colab-df-convert');\n",
              "        buttonEl.style.display =\n",
              "          google.colab.kernel.accessAllowed ? 'block' : 'none';\n",
              "\n",
              "        async function convertToInteractive(key) {\n",
              "          const element = document.querySelector('#df-ae039c8d-6c15-4e15-8fad-491e29f75b8f');\n",
              "          const dataTable =\n",
              "            await google.colab.kernel.invokeFunction('convertToInteractive',\n",
              "                                                     [key], {});\n",
              "          if (!dataTable) return;\n",
              "\n",
              "          const docLinkHtml = 'Like what you see? Visit the ' +\n",
              "            '<a target=\"_blank\" href=https://colab.research.google.com/notebooks/data_table.ipynb>data table notebook</a>'\n",
              "            + ' to learn more about interactive tables.';\n",
              "          element.innerHTML = '';\n",
              "          dataTable['output_type'] = 'display_data';\n",
              "          await google.colab.output.renderOutput(dataTable, element);\n",
              "          const docLink = document.createElement('div');\n",
              "          docLink.innerHTML = docLinkHtml;\n",
              "          element.appendChild(docLink);\n",
              "        }\n",
              "      </script>\n",
              "    </div>\n",
              "  </div>\n",
              "  "
            ]
          },
          "metadata": {},
          "execution_count": 5
        }
      ]
    },
    {
      "cell_type": "markdown",
      "metadata": {
        "id": "2i_yGkkUs3QA"
      },
      "source": [
        "# Estadística descriptiva\n",
        "\n",
        "Hemos estado organizando y visualizando los datos de distintas maneras, pero ¿qué intuiciones podemos obtener?\n",
        "\n",
        "Las visualizaciones como histogramas o gráficos de conteo muestran la cantidad de veces que se observa cada valor en un conjunto de realizaciones de una variable aleatoria. Esto se denomina análisis de frecuencia, y es parte de la **estadística descriptiva**.\n",
        "\n",
        "El uso de visualizaciones nos limita a estimaciones, pero los datos crudos son demasiado como para intepretarlos en conjunto. Para eso, la estadística descriptiva provee también medidas de tendencia central y de dispersión, que resumen en un valor numérico propiedades de las realizaciones de la variable.\n",
        "\n",
        "Retomemos el problema original con la v.a. `salary_monthly_NETO`, ¿qué información brindan las siguientes métricas y cómo usarlas?\n",
        "\n",
        "\n",
        "https://pandas.pydata.org/docs/reference/api/pandas.DataFrame.describe.html"
      ]
    },
    {
      "cell_type": "code",
      "metadata": {
        "id": "AXFDG0eBPDgH"
      },
      "source": [
        "salary_col='salary_monthly_BRUTO'"
      ],
      "execution_count": 6,
      "outputs": []
    },
    {
      "cell_type": "code",
      "metadata": {
        "colab": {
          "base_uri": "https://localhost:8080/"
        },
        "id": "fHre-H9euQv4",
        "outputId": "6e4b4aee-3233-48d8-afd7-e085220d7d12"
      },
      "source": [
        "df[salary_col].describe().apply(lambda s: '{0:.2f}'.format(s))"
      ],
      "execution_count": 7,
      "outputs": [
        {
          "output_type": "execute_result",
          "data": {
            "text/plain": [
              "count       6095.00\n",
              "mean      124058.55\n",
              "std       122912.35\n",
              "min            1.00\n",
              "25%        61595.00\n",
              "50%        96000.00\n",
              "75%       145000.00\n",
              "max      2180000.00\n",
              "Name: salary_monthly_BRUTO, dtype: object"
            ]
          },
          "metadata": {},
          "execution_count": 7
        }
      ]
    },
    {
      "cell_type": "code",
      "source": [
        "pd.options.display.float_format = '${:.2f}'.format # formatea la salida del describe\n",
        "df.describe()"
      ],
      "metadata": {
        "colab": {
          "base_uri": "https://localhost:8080/",
          "height": 364
        },
        "id": "6IFn1Sh3pAjN",
        "outputId": "c5921a92-a512-45ad-954a-5c3c8187b8bd"
      },
      "execution_count": 8,
      "outputs": [
        {
          "output_type": "execute_result",
          "data": {
            "text/plain": [
              "       profile_age  profile_years_experience  work_years_in_company  \\\n",
              "count     $6095.00                  $6095.00               $6095.00   \n",
              "mean        $41.18                     $8.93                  $3.31   \n",
              "std        $665.72                     $7.16                  $4.37   \n",
              "min         $18.00                     $0.00                  $0.00   \n",
              "25%         $27.00                     $3.00                  $0.00   \n",
              "50%         $31.00                     $7.00                  $2.00   \n",
              "75%         $37.00                    $13.00                  $4.00   \n",
              "max      $52000.00                   $115.00                 $43.00   \n",
              "\n",
              "       work_years_in_current_position  work_people_in_charge_of  \\\n",
              "count                        $6095.00                  $6095.00   \n",
              "mean                            $2.89                     $2.21   \n",
              "std                             $3.42                    $32.98   \n",
              "min                             $0.00                     $0.00   \n",
              "25%                             $1.00                     $0.00   \n",
              "50%                             $2.00                     $0.00   \n",
              "75%                             $4.00                     $0.00   \n",
              "max                            $34.00                  $2500.00   \n",
              "\n",
              "       salary_on_call_duty_charge  salary_monthly_BRUTO  salary_monthly_NETO  \\\n",
              "count                    $6095.00              $6095.00             $5883.00   \n",
              "mean                      $664.04            $124058.55            $94907.95   \n",
              "std                     $10540.52            $122912.35            $96862.26   \n",
              "min                         $0.00                 $1.00                $1.00   \n",
              "25%                         $0.00             $61595.00            $51480.00   \n",
              "50%                         $0.00             $96000.00            $78000.00   \n",
              "75%                         $0.00            $145000.00           $106000.00   \n",
              "max                    $650000.00           $2180000.00          $2080000.00   \n",
              "\n",
              "       salary_satisfaction  salary_comparison_last_semester  \\\n",
              "count             $6095.00                         $6095.00   \n",
              "mean                 $2.62                            $2.36   \n",
              "std                  $0.86                            $0.95   \n",
              "min                  $1.00                            $1.00   \n",
              "25%                  $2.00                            $2.00   \n",
              "50%                  $3.00                            $2.00   \n",
              "75%                  $3.00                            $3.00   \n",
              "max                  $4.00                            $4.00   \n",
              "\n",
              "       salary_percentage_inflation_adjustment_2020  \\\n",
              "count                                     $6095.00   \n",
              "mean                                        $10.44   \n",
              "std                                         $12.86   \n",
              "min                                          $0.00   \n",
              "25%                                          $0.00   \n",
              "50%                                          $7.00   \n",
              "75%                                         $18.00   \n",
              "max                                        $100.00   \n",
              "\n",
              "       salary_month_last_inflation_adjustment  company_recommended  \\\n",
              "count                                $6095.00             $6095.00   \n",
              "mean                                    $2.79                $7.34   \n",
              "std                                     $2.84                $2.02   \n",
              "min                                     $0.00                $1.00   \n",
              "25%                                     $0.00                $6.00   \n",
              "50%                                     $2.00                $8.00   \n",
              "75%                                     $6.00                $9.00   \n",
              "max                                     $8.00               $10.00   \n",
              "\n",
              "       company_diversity_policies  \n",
              "count                    $6095.00  \n",
              "mean                        $7.62  \n",
              "std                         $2.32  \n",
              "min                         $1.00  \n",
              "25%                         $6.00  \n",
              "50%                         $8.00  \n",
              "75%                        $10.00  \n",
              "max                        $10.00  "
            ],
            "text/html": [
              "\n",
              "  <div id=\"df-a47dc6df-d527-4132-a162-3a47591e3a28\">\n",
              "    <div class=\"colab-df-container\">\n",
              "      <div>\n",
              "<style scoped>\n",
              "    .dataframe tbody tr th:only-of-type {\n",
              "        vertical-align: middle;\n",
              "    }\n",
              "\n",
              "    .dataframe tbody tr th {\n",
              "        vertical-align: top;\n",
              "    }\n",
              "\n",
              "    .dataframe thead th {\n",
              "        text-align: right;\n",
              "    }\n",
              "</style>\n",
              "<table border=\"1\" class=\"dataframe\">\n",
              "  <thead>\n",
              "    <tr style=\"text-align: right;\">\n",
              "      <th></th>\n",
              "      <th>profile_age</th>\n",
              "      <th>profile_years_experience</th>\n",
              "      <th>work_years_in_company</th>\n",
              "      <th>work_years_in_current_position</th>\n",
              "      <th>work_people_in_charge_of</th>\n",
              "      <th>salary_on_call_duty_charge</th>\n",
              "      <th>salary_monthly_BRUTO</th>\n",
              "      <th>salary_monthly_NETO</th>\n",
              "      <th>salary_satisfaction</th>\n",
              "      <th>salary_comparison_last_semester</th>\n",
              "      <th>salary_percentage_inflation_adjustment_2020</th>\n",
              "      <th>salary_month_last_inflation_adjustment</th>\n",
              "      <th>company_recommended</th>\n",
              "      <th>company_diversity_policies</th>\n",
              "    </tr>\n",
              "  </thead>\n",
              "  <tbody>\n",
              "    <tr>\n",
              "      <th>count</th>\n",
              "      <td>$6095.00</td>\n",
              "      <td>$6095.00</td>\n",
              "      <td>$6095.00</td>\n",
              "      <td>$6095.00</td>\n",
              "      <td>$6095.00</td>\n",
              "      <td>$6095.00</td>\n",
              "      <td>$6095.00</td>\n",
              "      <td>$5883.00</td>\n",
              "      <td>$6095.00</td>\n",
              "      <td>$6095.00</td>\n",
              "      <td>$6095.00</td>\n",
              "      <td>$6095.00</td>\n",
              "      <td>$6095.00</td>\n",
              "      <td>$6095.00</td>\n",
              "    </tr>\n",
              "    <tr>\n",
              "      <th>mean</th>\n",
              "      <td>$41.18</td>\n",
              "      <td>$8.93</td>\n",
              "      <td>$3.31</td>\n",
              "      <td>$2.89</td>\n",
              "      <td>$2.21</td>\n",
              "      <td>$664.04</td>\n",
              "      <td>$124058.55</td>\n",
              "      <td>$94907.95</td>\n",
              "      <td>$2.62</td>\n",
              "      <td>$2.36</td>\n",
              "      <td>$10.44</td>\n",
              "      <td>$2.79</td>\n",
              "      <td>$7.34</td>\n",
              "      <td>$7.62</td>\n",
              "    </tr>\n",
              "    <tr>\n",
              "      <th>std</th>\n",
              "      <td>$665.72</td>\n",
              "      <td>$7.16</td>\n",
              "      <td>$4.37</td>\n",
              "      <td>$3.42</td>\n",
              "      <td>$32.98</td>\n",
              "      <td>$10540.52</td>\n",
              "      <td>$122912.35</td>\n",
              "      <td>$96862.26</td>\n",
              "      <td>$0.86</td>\n",
              "      <td>$0.95</td>\n",
              "      <td>$12.86</td>\n",
              "      <td>$2.84</td>\n",
              "      <td>$2.02</td>\n",
              "      <td>$2.32</td>\n",
              "    </tr>\n",
              "    <tr>\n",
              "      <th>min</th>\n",
              "      <td>$18.00</td>\n",
              "      <td>$0.00</td>\n",
              "      <td>$0.00</td>\n",
              "      <td>$0.00</td>\n",
              "      <td>$0.00</td>\n",
              "      <td>$0.00</td>\n",
              "      <td>$1.00</td>\n",
              "      <td>$1.00</td>\n",
              "      <td>$1.00</td>\n",
              "      <td>$1.00</td>\n",
              "      <td>$0.00</td>\n",
              "      <td>$0.00</td>\n",
              "      <td>$1.00</td>\n",
              "      <td>$1.00</td>\n",
              "    </tr>\n",
              "    <tr>\n",
              "      <th>25%</th>\n",
              "      <td>$27.00</td>\n",
              "      <td>$3.00</td>\n",
              "      <td>$0.00</td>\n",
              "      <td>$1.00</td>\n",
              "      <td>$0.00</td>\n",
              "      <td>$0.00</td>\n",
              "      <td>$61595.00</td>\n",
              "      <td>$51480.00</td>\n",
              "      <td>$2.00</td>\n",
              "      <td>$2.00</td>\n",
              "      <td>$0.00</td>\n",
              "      <td>$0.00</td>\n",
              "      <td>$6.00</td>\n",
              "      <td>$6.00</td>\n",
              "    </tr>\n",
              "    <tr>\n",
              "      <th>50%</th>\n",
              "      <td>$31.00</td>\n",
              "      <td>$7.00</td>\n",
              "      <td>$2.00</td>\n",
              "      <td>$2.00</td>\n",
              "      <td>$0.00</td>\n",
              "      <td>$0.00</td>\n",
              "      <td>$96000.00</td>\n",
              "      <td>$78000.00</td>\n",
              "      <td>$3.00</td>\n",
              "      <td>$2.00</td>\n",
              "      <td>$7.00</td>\n",
              "      <td>$2.00</td>\n",
              "      <td>$8.00</td>\n",
              "      <td>$8.00</td>\n",
              "    </tr>\n",
              "    <tr>\n",
              "      <th>75%</th>\n",
              "      <td>$37.00</td>\n",
              "      <td>$13.00</td>\n",
              "      <td>$4.00</td>\n",
              "      <td>$4.00</td>\n",
              "      <td>$0.00</td>\n",
              "      <td>$0.00</td>\n",
              "      <td>$145000.00</td>\n",
              "      <td>$106000.00</td>\n",
              "      <td>$3.00</td>\n",
              "      <td>$3.00</td>\n",
              "      <td>$18.00</td>\n",
              "      <td>$6.00</td>\n",
              "      <td>$9.00</td>\n",
              "      <td>$10.00</td>\n",
              "    </tr>\n",
              "    <tr>\n",
              "      <th>max</th>\n",
              "      <td>$52000.00</td>\n",
              "      <td>$115.00</td>\n",
              "      <td>$43.00</td>\n",
              "      <td>$34.00</td>\n",
              "      <td>$2500.00</td>\n",
              "      <td>$650000.00</td>\n",
              "      <td>$2180000.00</td>\n",
              "      <td>$2080000.00</td>\n",
              "      <td>$4.00</td>\n",
              "      <td>$4.00</td>\n",
              "      <td>$100.00</td>\n",
              "      <td>$8.00</td>\n",
              "      <td>$10.00</td>\n",
              "      <td>$10.00</td>\n",
              "    </tr>\n",
              "  </tbody>\n",
              "</table>\n",
              "</div>\n",
              "      <button class=\"colab-df-convert\" onclick=\"convertToInteractive('df-a47dc6df-d527-4132-a162-3a47591e3a28')\"\n",
              "              title=\"Convert this dataframe to an interactive table.\"\n",
              "              style=\"display:none;\">\n",
              "        \n",
              "  <svg xmlns=\"http://www.w3.org/2000/svg\" height=\"24px\"viewBox=\"0 0 24 24\"\n",
              "       width=\"24px\">\n",
              "    <path d=\"M0 0h24v24H0V0z\" fill=\"none\"/>\n",
              "    <path d=\"M18.56 5.44l.94 2.06.94-2.06 2.06-.94-2.06-.94-.94-2.06-.94 2.06-2.06.94zm-11 1L8.5 8.5l.94-2.06 2.06-.94-2.06-.94L8.5 2.5l-.94 2.06-2.06.94zm10 10l.94 2.06.94-2.06 2.06-.94-2.06-.94-.94-2.06-.94 2.06-2.06.94z\"/><path d=\"M17.41 7.96l-1.37-1.37c-.4-.4-.92-.59-1.43-.59-.52 0-1.04.2-1.43.59L10.3 9.45l-7.72 7.72c-.78.78-.78 2.05 0 2.83L4 21.41c.39.39.9.59 1.41.59.51 0 1.02-.2 1.41-.59l7.78-7.78 2.81-2.81c.8-.78.8-2.07 0-2.86zM5.41 20L4 18.59l7.72-7.72 1.47 1.35L5.41 20z\"/>\n",
              "  </svg>\n",
              "      </button>\n",
              "      \n",
              "  <style>\n",
              "    .colab-df-container {\n",
              "      display:flex;\n",
              "      flex-wrap:wrap;\n",
              "      gap: 12px;\n",
              "    }\n",
              "\n",
              "    .colab-df-convert {\n",
              "      background-color: #E8F0FE;\n",
              "      border: none;\n",
              "      border-radius: 50%;\n",
              "      cursor: pointer;\n",
              "      display: none;\n",
              "      fill: #1967D2;\n",
              "      height: 32px;\n",
              "      padding: 0 0 0 0;\n",
              "      width: 32px;\n",
              "    }\n",
              "\n",
              "    .colab-df-convert:hover {\n",
              "      background-color: #E2EBFA;\n",
              "      box-shadow: 0px 1px 2px rgba(60, 64, 67, 0.3), 0px 1px 3px 1px rgba(60, 64, 67, 0.15);\n",
              "      fill: #174EA6;\n",
              "    }\n",
              "\n",
              "    [theme=dark] .colab-df-convert {\n",
              "      background-color: #3B4455;\n",
              "      fill: #D2E3FC;\n",
              "    }\n",
              "\n",
              "    [theme=dark] .colab-df-convert:hover {\n",
              "      background-color: #434B5C;\n",
              "      box-shadow: 0px 1px 3px 1px rgba(0, 0, 0, 0.15);\n",
              "      filter: drop-shadow(0px 1px 2px rgba(0, 0, 0, 0.3));\n",
              "      fill: #FFFFFF;\n",
              "    }\n",
              "  </style>\n",
              "\n",
              "      <script>\n",
              "        const buttonEl =\n",
              "          document.querySelector('#df-a47dc6df-d527-4132-a162-3a47591e3a28 button.colab-df-convert');\n",
              "        buttonEl.style.display =\n",
              "          google.colab.kernel.accessAllowed ? 'block' : 'none';\n",
              "\n",
              "        async function convertToInteractive(key) {\n",
              "          const element = document.querySelector('#df-a47dc6df-d527-4132-a162-3a47591e3a28');\n",
              "          const dataTable =\n",
              "            await google.colab.kernel.invokeFunction('convertToInteractive',\n",
              "                                                     [key], {});\n",
              "          if (!dataTable) return;\n",
              "\n",
              "          const docLinkHtml = 'Like what you see? Visit the ' +\n",
              "            '<a target=\"_blank\" href=https://colab.research.google.com/notebooks/data_table.ipynb>data table notebook</a>'\n",
              "            + ' to learn more about interactive tables.';\n",
              "          element.innerHTML = '';\n",
              "          dataTable['output_type'] = 'display_data';\n",
              "          await google.colab.output.renderOutput(dataTable, element);\n",
              "          const docLink = document.createElement('div');\n",
              "          docLink.innerHTML = docLinkHtml;\n",
              "          element.appendChild(docLink);\n",
              "        }\n",
              "      </script>\n",
              "    </div>\n",
              "  </div>\n",
              "  "
            ]
          },
          "metadata": {},
          "execution_count": 8
        }
      ]
    },
    {
      "cell_type": "markdown",
      "metadata": {
        "id": "QC-wJbBitzDH"
      },
      "source": [
        "## Medidas de tendencia central\n",
        "\n",
        "Cuando se quiere obtener un valor representativo de todas las realizaciones de una v.a., o su centro, se utiliza una *medida de tendencia central*.\n",
        "\n",
        "Repasando, dada una característica de interés (modelada por X v.a.) y un conjunto de observaciones $x = \\{ x_1, x_2 ... \\}$ donde $x_i = X(\\omega_i)$ para algún $\\omega_i \\in \\Omega$, y $N = |x|$:\n",
        "\n",
        "* La **media muestral** (aritmética) o promedio se calcula como:\n",
        "\n",
        "$$ \\bar{x} = \\frac{1}{N} \\sum_i^N x_i $$\n",
        "\n",
        "* La **mediana** se calcula:\n",
        "  1. Ordenar las realizaciones tal que $x_j \\leq x_{j+1}$ \n",
        "  2. Si la cantidad de datos $N$ es impar, la mediana es el valor central: $median = x_{\\lfloor N / 2 \\rfloor +1}$\n",
        "  3. Si la cantidad de datos $N$ es par, la mediana es e promedio de los dos valores centrales: $median = \\frac{1}{2} (x_{ N / 2 } + x_{ (N / 2) +1})$\n",
        "\n",
        "* La **moda** son los valores o él valor con mayor frecuencia, es decir, los o él que más se repite.\n"
      ]
    },
    {
      "cell_type": "code",
      "metadata": {
        "colab": {
          "base_uri": "https://localhost:8080/"
        },
        "id": "VGJfjf-x5TOh",
        "outputId": "e5fa0020-d065-4679-f982-b160781d3f97"
      },
      "source": [
        "df[salary_col].mean(), df[salary_col].median()"
      ],
      "execution_count": 9,
      "outputs": [
        {
          "output_type": "execute_result",
          "data": {
            "text/plain": [
              "(124058.54962132902, 96000.0)"
            ]
          },
          "metadata": {},
          "execution_count": 9
        }
      ]
    },
    {
      "cell_type": "markdown",
      "metadata": {
        "id": "hDltOaTjnuFd"
      },
      "source": [
        "**¿Por qué las dos medidas son tan distintas?**\n",
        "\n",
        "* La media se puede interpretar como el *centro de masa* del histograma. Es decir, si el histograma fuera una figura de madera, el punto de equilibrio donde podemos apoyarlo y no se cae es la media.\n",
        "* La media es muy sensible a valores extremos. \n",
        "* La mediana es más robusta a valores extremos.\n",
        "* Si la distribución de los datos es simétrica, las medidas coinciden. (Luego, si no coinciden es porque la distribución no es simétrica)\n",
        "\n",
        "**¿Se cumple para estos datos?**"
      ]
    },
    {
      "cell_type": "markdown",
      "source": [
        "*Lo siguiente que hace es armar un ciclo donde va limitando por valor maximo, osea va truncando los valores mayores a un maximo que va disminuyendo en el ciclo*"
      ],
      "metadata": {
        "id": "iIrN5GkXvDPO"
      }
    },
    {
      "cell_type": "code",
      "metadata": {
        "colab": {
          "base_uri": "https://localhost:8080/"
        },
        "id": "woWeBF8-0u5Q",
        "outputId": "95207a8d-2850-45f5-be24-f6ab7a16e54f"
      },
      "source": [
        "max_salaries = [df[salary_col].max(), 10**6, 500000, 400000, 300000, 200000]\n",
        "central_tendency = [\n",
        "    (max_salary, df[df[salary_col] < max_salary][salary_col].mean(),\n",
        "     df[df[salary_col] < max_salary][salary_col].median())\n",
        "    for max_salary in max_salaries\n",
        "]\n",
        "central_tendency"
      ],
      "execution_count": 10,
      "outputs": [
        {
          "output_type": "execute_result",
          "data": {
            "text/plain": [
              "[(2180000.0, 123721.17819855602, 96000.0),\n",
              " (1000000, 120723.13043954605, 96000.0),\n",
              " (500000, 112145.56938829432, 95000.0),\n",
              " (400000, 107991.96966661021, 94000.0),\n",
              " (300000, 102223.41686622657, 92000.0),\n",
              " (200000, 91461.11102857142, 88000.0)]"
            ]
          },
          "metadata": {},
          "execution_count": 10
        }
      ]
    },
    {
      "cell_type": "markdown",
      "metadata": {
        "id": "EZrjSY4yPV8-"
      },
      "source": [
        "Se pueden graficar estos números para lograr una mejor intuición de la magnitud de las diferencias. Además, al mostrar una visualización se pueden incluir más puntos.\n",
        "\n",
        "Para poder crear gráficos de seaborn con distintos grupos de datos, muchas veces es necesario cambiar el formato del dataframe de wide a long. Ver [este link](https://anvil.works/blog/tidy-data) para más información."
      ]
    },
    {
      "cell_type": "code",
      "metadata": {
        "colab": {
          "base_uri": "https://localhost:8080/",
          "height": 143
        },
        "id": "MpMJWSNq3Xq_",
        "outputId": "96928b92-ab55-4767-c2a6-eb8e345007a5"
      },
      "source": [
        "central_tendency_max = [\n",
        "    (max_salary, df[df[salary_col] < max_salary][salary_col].mean(),\n",
        "     df[df[salary_col] < max_salary][salary_col].median())\n",
        "    for max_salary in range(50000, int(df[salary_col].max()), 10**4)\n",
        "]\n",
        "central_tendency_max_df = pd.DataFrame(central_tendency_max,\n",
        "                                   columns=['max_salary', 'mean', 'median'])\\\n",
        "  .melt(id_vars='max_salary', var_name='metric')\n",
        "\n",
        "central_tendency_max_df[:3]"
      ],
      "execution_count": 11,
      "outputs": [
        {
          "output_type": "execute_result",
          "data": {
            "text/plain": [
              "   max_salary metric     value\n",
              "0       50000   mean $30339.53\n",
              "1       60000   mean $37032.45\n",
              "2       70000   mean $44179.53"
            ],
            "text/html": [
              "\n",
              "  <div id=\"df-7700d314-f89c-45e1-8f10-1bf9d31563f3\">\n",
              "    <div class=\"colab-df-container\">\n",
              "      <div>\n",
              "<style scoped>\n",
              "    .dataframe tbody tr th:only-of-type {\n",
              "        vertical-align: middle;\n",
              "    }\n",
              "\n",
              "    .dataframe tbody tr th {\n",
              "        vertical-align: top;\n",
              "    }\n",
              "\n",
              "    .dataframe thead th {\n",
              "        text-align: right;\n",
              "    }\n",
              "</style>\n",
              "<table border=\"1\" class=\"dataframe\">\n",
              "  <thead>\n",
              "    <tr style=\"text-align: right;\">\n",
              "      <th></th>\n",
              "      <th>max_salary</th>\n",
              "      <th>metric</th>\n",
              "      <th>value</th>\n",
              "    </tr>\n",
              "  </thead>\n",
              "  <tbody>\n",
              "    <tr>\n",
              "      <th>0</th>\n",
              "      <td>50000</td>\n",
              "      <td>mean</td>\n",
              "      <td>$30339.53</td>\n",
              "    </tr>\n",
              "    <tr>\n",
              "      <th>1</th>\n",
              "      <td>60000</td>\n",
              "      <td>mean</td>\n",
              "      <td>$37032.45</td>\n",
              "    </tr>\n",
              "    <tr>\n",
              "      <th>2</th>\n",
              "      <td>70000</td>\n",
              "      <td>mean</td>\n",
              "      <td>$44179.53</td>\n",
              "    </tr>\n",
              "  </tbody>\n",
              "</table>\n",
              "</div>\n",
              "      <button class=\"colab-df-convert\" onclick=\"convertToInteractive('df-7700d314-f89c-45e1-8f10-1bf9d31563f3')\"\n",
              "              title=\"Convert this dataframe to an interactive table.\"\n",
              "              style=\"display:none;\">\n",
              "        \n",
              "  <svg xmlns=\"http://www.w3.org/2000/svg\" height=\"24px\"viewBox=\"0 0 24 24\"\n",
              "       width=\"24px\">\n",
              "    <path d=\"M0 0h24v24H0V0z\" fill=\"none\"/>\n",
              "    <path d=\"M18.56 5.44l.94 2.06.94-2.06 2.06-.94-2.06-.94-.94-2.06-.94 2.06-2.06.94zm-11 1L8.5 8.5l.94-2.06 2.06-.94-2.06-.94L8.5 2.5l-.94 2.06-2.06.94zm10 10l.94 2.06.94-2.06 2.06-.94-2.06-.94-.94-2.06-.94 2.06-2.06.94z\"/><path d=\"M17.41 7.96l-1.37-1.37c-.4-.4-.92-.59-1.43-.59-.52 0-1.04.2-1.43.59L10.3 9.45l-7.72 7.72c-.78.78-.78 2.05 0 2.83L4 21.41c.39.39.9.59 1.41.59.51 0 1.02-.2 1.41-.59l7.78-7.78 2.81-2.81c.8-.78.8-2.07 0-2.86zM5.41 20L4 18.59l7.72-7.72 1.47 1.35L5.41 20z\"/>\n",
              "  </svg>\n",
              "      </button>\n",
              "      \n",
              "  <style>\n",
              "    .colab-df-container {\n",
              "      display:flex;\n",
              "      flex-wrap:wrap;\n",
              "      gap: 12px;\n",
              "    }\n",
              "\n",
              "    .colab-df-convert {\n",
              "      background-color: #E8F0FE;\n",
              "      border: none;\n",
              "      border-radius: 50%;\n",
              "      cursor: pointer;\n",
              "      display: none;\n",
              "      fill: #1967D2;\n",
              "      height: 32px;\n",
              "      padding: 0 0 0 0;\n",
              "      width: 32px;\n",
              "    }\n",
              "\n",
              "    .colab-df-convert:hover {\n",
              "      background-color: #E2EBFA;\n",
              "      box-shadow: 0px 1px 2px rgba(60, 64, 67, 0.3), 0px 1px 3px 1px rgba(60, 64, 67, 0.15);\n",
              "      fill: #174EA6;\n",
              "    }\n",
              "\n",
              "    [theme=dark] .colab-df-convert {\n",
              "      background-color: #3B4455;\n",
              "      fill: #D2E3FC;\n",
              "    }\n",
              "\n",
              "    [theme=dark] .colab-df-convert:hover {\n",
              "      background-color: #434B5C;\n",
              "      box-shadow: 0px 1px 3px 1px rgba(0, 0, 0, 0.15);\n",
              "      filter: drop-shadow(0px 1px 2px rgba(0, 0, 0, 0.3));\n",
              "      fill: #FFFFFF;\n",
              "    }\n",
              "  </style>\n",
              "\n",
              "      <script>\n",
              "        const buttonEl =\n",
              "          document.querySelector('#df-7700d314-f89c-45e1-8f10-1bf9d31563f3 button.colab-df-convert');\n",
              "        buttonEl.style.display =\n",
              "          google.colab.kernel.accessAllowed ? 'block' : 'none';\n",
              "\n",
              "        async function convertToInteractive(key) {\n",
              "          const element = document.querySelector('#df-7700d314-f89c-45e1-8f10-1bf9d31563f3');\n",
              "          const dataTable =\n",
              "            await google.colab.kernel.invokeFunction('convertToInteractive',\n",
              "                                                     [key], {});\n",
              "          if (!dataTable) return;\n",
              "\n",
              "          const docLinkHtml = 'Like what you see? Visit the ' +\n",
              "            '<a target=\"_blank\" href=https://colab.research.google.com/notebooks/data_table.ipynb>data table notebook</a>'\n",
              "            + ' to learn more about interactive tables.';\n",
              "          element.innerHTML = '';\n",
              "          dataTable['output_type'] = 'display_data';\n",
              "          await google.colab.output.renderOutput(dataTable, element);\n",
              "          const docLink = document.createElement('div');\n",
              "          docLink.innerHTML = docLinkHtml;\n",
              "          element.appendChild(docLink);\n",
              "        }\n",
              "      </script>\n",
              "    </div>\n",
              "  </div>\n",
              "  "
            ]
          },
          "metadata": {},
          "execution_count": 11
        }
      ]
    },
    {
      "cell_type": "code",
      "metadata": {
        "colab": {
          "base_uri": "https://localhost:8080/",
          "height": 355
        },
        "id": "rJQfOlKV15Z4",
        "outputId": "60fc15f5-e477-44d5-f6e4-6c5906f33458"
      },
      "source": [
        "# ¡Podemos ver estos datos visualmente! valga la redundancia!!\n",
        "fig = plt.figure(figsize=(15, 5))\n",
        "seaborn.lineplot(data=central_tendency_max_df, x='max_salary', y='value', hue='metric')\n",
        "plt.ticklabel_format(style='plain', axis='x')\n",
        "seaborn.despine()"
      ],
      "execution_count": 12,
      "outputs": [
        {
          "output_type": "display_data",
          "data": {
            "text/plain": [
              "<Figure size 1080x360 with 1 Axes>"
            ],
            "image/png": "[encoded data removed]"
          },
          "metadata": {
            "needs_background": "light"
          }
        }
      ]
    },
    {
      "cell_type": "code",
      "metadata": {
        "colab": {
          "base_uri": "https://localhost:8080/",
          "height": 736
        },
        "id": "mSyyNgvndRPQ",
        "outputId": "a7ecd7c6-1ffc-4b52-969b-111c3a3791a4"
      },
      "source": [
        "## La diferencia no siempre se aprecia en los gráficos\n",
        "fig, axes = plt.subplots(nrows=2, figsize=(16, 12))\n",
        "seaborn.histplot(df[salary_col], bins=100, ax=axes[0], color='gray')\n",
        "axes[0].axvline(df[salary_col].mean(), color='orangered',\n",
        "            linestyle='--', label='Media')\n",
        "axes[0].axvline(df[salary_col].median(), color='indigo',\n",
        "            linestyle='-.', label='Mediana')\n",
        "\n",
        "filtered_df = df[df[salary_col] < 200000]\n",
        "seaborn.histplot(filtered_df[salary_col], bins=100, ax=axes[1], color='gray')\n",
        "axes[1].axvline(filtered_df[salary_col].mean(), color='orangered',\n",
        "            linestyle='--', label='Media')\n",
        "axes[1].axvline(filtered_df[salary_col].median(), color='indigo',\n",
        "            linestyle='-.', label='Mediana')\n",
        "\n",
        "axes[0].legend()\n",
        "seaborn.despine()"
      ],
      "execution_count": 13,
      "outputs": [
        {
          "output_type": "display_data",
          "data": {
            "text/plain": [
              "<Figure size 1152x864 with 2 Axes>"
            ],
            "image/png": "[encoded data removed]"
          },
          "metadata": {
            "needs_background": "light"
          }
        }
      ]
    },
    {
      "cell_type": "markdown",
      "metadata": {
        "id": "3MdG-7bK8AKR"
      },
      "source": [
        "¿Qué decir de la moda? Sólo que el resultado de la función no es un valor, sino una series de valores, aunque la serie tenga un único elemento."
      ]
    },
    {
      "cell_type": "code",
      "metadata": {
        "colab": {
          "base_uri": "https://localhost:8080/"
        },
        "id": "r01xw1q18AmV",
        "outputId": "5c8186f8-d121-4600-81fe-30b6425fa090"
      },
      "source": [
        "df.profile_gender.mode()"
      ],
      "execution_count": 14,
      "outputs": [
        {
          "output_type": "execute_result",
          "data": {
            "text/plain": [
              "0    Hombre\n",
              "dtype: object"
            ]
          },
          "metadata": {},
          "execution_count": 14
        }
      ]
    },
    {
      "cell_type": "markdown",
      "metadata": {
        "id": "Li3vLv3X8k7Z"
      },
      "source": [
        "## Medidas de dispersión\n",
        "\n",
        "Las medidas de dispersión vistas en el teórico son la desviación estándar, la varianza, y el coeficiente de variación. También permiten representar con un número alguna propiedad de los datos.\n",
        "\n",
        "Por ejemplo, comparemos el salario neto con el salario bruto. A priori, **¿deberíamos ver alguna diferencia?**"
      ]
    },
    {
      "cell_type": "code",
      "metadata": {
        "colab": {
          "base_uri": "https://localhost:8080/",
          "height": 300
        },
        "id": "504NtuJWjpX0",
        "outputId": "b01b2ae6-2ee7-47c8-9560-3b73d6383682"
      },
      "source": [
        "df[['salary_monthly_NETO', 'salary_monthly_BRUTO']].describe().round()"
      ],
      "execution_count": 15,
      "outputs": [
        {
          "output_type": "execute_result",
          "data": {
            "text/plain": [
              "       salary_monthly_NETO  salary_monthly_BRUTO\n",
              "count             $5883.00              $6095.00\n",
              "mean             $94908.00            $124059.00\n",
              "std              $96862.00            $122912.00\n",
              "min                  $1.00                 $1.00\n",
              "25%              $51480.00             $61595.00\n",
              "50%              $78000.00             $96000.00\n",
              "75%             $106000.00            $145000.00\n",
              "max            $2080000.00           $2180000.00"
            ],
            "text/html": [
              "\n",
              "  <div id=\"df-7bb47c61-983a-4d18-b833-28f26407260e\">\n",
              "    <div class=\"colab-df-container\">\n",
              "      <div>\n",
              "<style scoped>\n",
              "    .dataframe tbody tr th:only-of-type {\n",
              "        vertical-align: middle;\n",
              "    }\n",
              "\n",
              "    .dataframe tbody tr th {\n",
              "        vertical-align: top;\n",
              "    }\n",
              "\n",
              "    .dataframe thead th {\n",
              "        text-align: right;\n",
              "    }\n",
              "</style>\n",
              "<table border=\"1\" class=\"dataframe\">\n",
              "  <thead>\n",
              "    <tr style=\"text-align: right;\">\n",
              "      <th></th>\n",
              "      <th>salary_monthly_NETO</th>\n",
              "      <th>salary_monthly_BRUTO</th>\n",
              "    </tr>\n",
              "  </thead>\n",
              "  <tbody>\n",
              "    <tr>\n",
              "      <th>count</th>\n",
              "      <td>$5883.00</td>\n",
              "      <td>$6095.00</td>\n",
              "    </tr>\n",
              "    <tr>\n",
              "      <th>mean</th>\n",
              "      <td>$94908.00</td>\n",
              "      <td>$124059.00</td>\n",
              "    </tr>\n",
              "    <tr>\n",
              "      <th>std</th>\n",
              "      <td>$96862.00</td>\n",
              "      <td>$122912.00</td>\n",
              "    </tr>\n",
              "    <tr>\n",
              "      <th>min</th>\n",
              "      <td>$1.00</td>\n",
              "      <td>$1.00</td>\n",
              "    </tr>\n",
              "    <tr>\n",
              "      <th>25%</th>\n",
              "      <td>$51480.00</td>\n",
              "      <td>$61595.00</td>\n",
              "    </tr>\n",
              "    <tr>\n",
              "      <th>50%</th>\n",
              "      <td>$78000.00</td>\n",
              "      <td>$96000.00</td>\n",
              "    </tr>\n",
              "    <tr>\n",
              "      <th>75%</th>\n",
              "      <td>$106000.00</td>\n",
              "      <td>$145000.00</td>\n",
              "    </tr>\n",
              "    <tr>\n",
              "      <th>max</th>\n",
              "      <td>$2080000.00</td>\n",
              "      <td>$2180000.00</td>\n",
              "    </tr>\n",
              "  </tbody>\n",
              "</table>\n",
              "</div>\n",
              "      <button class=\"colab-df-convert\" onclick=\"convertToInteractive('df-7bb47c61-983a-4d18-b833-28f26407260e')\"\n",
              "              title=\"Convert this dataframe to an interactive table.\"\n",
              "              style=\"display:none;\">\n",
              "        \n",
              "  <svg xmlns=\"http://www.w3.org/2000/svg\" height=\"24px\"viewBox=\"0 0 24 24\"\n",
              "       width=\"24px\">\n",
              "    <path d=\"M0 0h24v24H0V0z\" fill=\"none\"/>\n",
              "    <path d=\"M18.56 5.44l.94 2.06.94-2.06 2.06-.94-2.06-.94-.94-2.06-.94 2.06-2.06.94zm-11 1L8.5 8.5l.94-2.06 2.06-.94-2.06-.94L8.5 2.5l-.94 2.06-2.06.94zm10 10l.94 2.06.94-2.06 2.06-.94-2.06-.94-.94-2.06-.94 2.06-2.06.94z\"/><path d=\"M17.41 7.96l-1.37-1.37c-.4-.4-.92-.59-1.43-.59-.52 0-1.04.2-1.43.59L10.3 9.45l-7.72 7.72c-.78.78-.78 2.05 0 2.83L4 21.41c.39.39.9.59 1.41.59.51 0 1.02-.2 1.41-.59l7.78-7.78 2.81-2.81c.8-.78.8-2.07 0-2.86zM5.41 20L4 18.59l7.72-7.72 1.47 1.35L5.41 20z\"/>\n",
              "  </svg>\n",
              "      </button>\n",
              "      \n",
              "  <style>\n",
              "    .colab-df-container {\n",
              "      display:flex;\n",
              "      flex-wrap:wrap;\n",
              "      gap: 12px;\n",
              "    }\n",
              "\n",
              "    .colab-df-convert {\n",
              "      background-color: #E8F0FE;\n",
              "      border: none;\n",
              "      border-radius: 50%;\n",
              "      cursor: pointer;\n",
              "      display: none;\n",
              "      fill: #1967D2;\n",
              "      height: 32px;\n",
              "      padding: 0 0 0 0;\n",
              "      width: 32px;\n",
              "    }\n",
              "\n",
              "    .colab-df-convert:hover {\n",
              "      background-color: #E2EBFA;\n",
              "      box-shadow: 0px 1px 2px rgba(60, 64, 67, 0.3), 0px 1px 3px 1px rgba(60, 64, 67, 0.15);\n",
              "      fill: #174EA6;\n",
              "    }\n",
              "\n",
              "    [theme=dark] .colab-df-convert {\n",
              "      background-color: #3B4455;\n",
              "      fill: #D2E3FC;\n",
              "    }\n",
              "\n",
              "    [theme=dark] .colab-df-convert:hover {\n",
              "      background-color: #434B5C;\n",
              "      box-shadow: 0px 1px 3px 1px rgba(0, 0, 0, 0.15);\n",
              "      filter: drop-shadow(0px 1px 2px rgba(0, 0, 0, 0.3));\n",
              "      fill: #FFFFFF;\n",
              "    }\n",
              "  </style>\n",
              "\n",
              "      <script>\n",
              "        const buttonEl =\n",
              "          document.querySelector('#df-7bb47c61-983a-4d18-b833-28f26407260e button.colab-df-convert');\n",
              "        buttonEl.style.display =\n",
              "          google.colab.kernel.accessAllowed ? 'block' : 'none';\n",
              "\n",
              "        async function convertToInteractive(key) {\n",
              "          const element = document.querySelector('#df-7bb47c61-983a-4d18-b833-28f26407260e');\n",
              "          const dataTable =\n",
              "            await google.colab.kernel.invokeFunction('convertToInteractive',\n",
              "                                                     [key], {});\n",
              "          if (!dataTable) return;\n",
              "\n",
              "          const docLinkHtml = 'Like what you see? Visit the ' +\n",
              "            '<a target=\"_blank\" href=https://colab.research.google.com/notebooks/data_table.ipynb>data table notebook</a>'\n",
              "            + ' to learn more about interactive tables.';\n",
              "          element.innerHTML = '';\n",
              "          dataTable['output_type'] = 'display_data';\n",
              "          await google.colab.output.renderOutput(dataTable, element);\n",
              "          const docLink = document.createElement('div');\n",
              "          docLink.innerHTML = docLinkHtml;\n",
              "          element.appendChild(docLink);\n",
              "        }\n",
              "      </script>\n",
              "    </div>\n",
              "  </div>\n",
              "  "
            ]
          },
          "metadata": {},
          "execution_count": 15
        }
      ]
    },
    {
      "cell_type": "markdown",
      "metadata": {
        "id": "m6dcAgVYlUWK"
      },
      "source": [
        "Claramente, ambas distribuciones están centradas en valores distintos, pero ¿podemos decir algo sobre su dispersión?\n",
        "\n",
        "Cuando se comparan dos características diferentes (que pueden tener magnitudes diferentes) puede no ser conveniente comparar directamente los valores de las desviaciones estándar, sino que podemos usar el coeficiente de variación (desviación estándar dividida la media)."
      ]
    },
    {
      "cell_type": "code",
      "metadata": {
        "colab": {
          "base_uri": "https://localhost:8080/"
        },
        "id": "5Ga3FpQalrCm",
        "outputId": "6cc01e74-f38b-466e-dbe3-92426f83d738"
      },
      "source": [
        "import scipy\n",
        "\n",
        "print(\"Coeficiente de variación salario bruto\",\n",
        "      scipy.stats.variation(df.salary_monthly_BRUTO))\n",
        "print(\"Coeficiente de variación salario neto\",\n",
        "      scipy.stats.variation(df.salary_monthly_NETO.dropna()))"
      ],
      "execution_count": 16,
      "outputs": [
        {
          "output_type": "stream",
          "name": "stdout",
          "text": [
            "Coeficiente de variación salario bruto 0.9906795521353624\n",
            "Coeficiente de variación salario neto 1.0205048799041485\n"
          ]
        }
      ]
    },
    {
      "cell_type": "markdown",
      "metadata": {
        "id": "lVG6Ro-6ao3j"
      },
      "source": [
        "## Percentiles y gráficos de caja\n",
        "\n",
        "Los gráficos de caja son otra forma de representar la distribución de las realizaciones de una v.a. numérica, de una forma más condensada que un histograma.\n",
        "\n",
        "Son muy útiles para comparar muchas distribuciones, pero sólo cuando son muy distintas entre ellas, ya que oscurecen algunas sutilezas. Otros problema de este tipo de gráficos es que *no todo el mundo recuerda cómo leerlos*.\n",
        "\n",
        "En estadística descriptiva, un gráfico de caja es un método para representar gráficamente grupos de datos numéricos a través de sus cuartiles. Los gráficos de caja también pueden tener líneas que se extienden verticalmente desde las cajas (bigotes) indicando la variabilidad fuera de los cuartiles superior e inferior. Los valores atípicos pueden representarse como puntos individuales.\n",
        "\n",
        "La definición anterior sugiere que, si hay un valor atípico, se representará como un punto en el diagrama de caja, mientras que el resto de los datos de la muestra se agrupará y se mostrará en forma de cajas. Intentemos verlo nosotros mismos.\n",
        "<center>\n",
        "<img src=\"https://miro.medium.com/max/1400/1*2c21SkzJMf3frPXPAR_gZA.png\" height=\"300\" />\n",
        "</center>"
      ]
    },
    {
      "cell_type": "markdown",
      "source": [
        "[Boxplot explicado breve](https://med.unne.edu.ar/sitio/multimedia/imagenes/ckfinder/files/files/aps/GR%C3%81FICO%20DE%20CAJA.pdf)"
      ],
      "metadata": {
        "id": "9fOehqRU4OPk"
      }
    },
    {
      "cell_type": "code",
      "metadata": {
        "colab": {
          "base_uri": "https://localhost:8080/",
          "height": 301
        },
        "id": "5dbBiShrasMI",
        "outputId": "5e7c758f-fc25-4906-eadd-0a65dcce4d72"
      },
      "source": [
        "plt.figure(figsize=(12, 4))\n",
        "seaborn.boxplot(x=df[salary_col])\n",
        "seaborn.despine()"
      ],
      "execution_count": 17,
      "outputs": [
        {
          "output_type": "display_data",
          "data": {
            "text/plain": [
              "<Figure size 864x288 with 1 Axes>"
            ],
            "image/png": "[encoded data removed]"
          },
          "metadata": {
            "needs_background": "light"
          }
        }
      ]
    },
    {
      "cell_type": "code",
      "metadata": {
        "id": "j9J3KNTD_S6j",
        "colab": {
          "base_uri": "https://localhost:8080/",
          "height": 373
        },
        "outputId": "13b4c4d4-d186-4277-8f59-ab0283d4961c"
      },
      "source": [
        "seaborn.distplot(df[df.profile_age < 100].profile_age)"
      ],
      "execution_count": 18,
      "outputs": [
        {
          "output_type": "stream",
          "name": "stderr",
          "text": [
            "/usr/local/lib/python3.7/dist-packages/seaborn/distributions.py:2619: FutureWarning: `distplot` is a deprecated function and will be removed in a future version. Please adapt your code to use either `displot` (a figure-level function with similar flexibility) or `histplot` (an axes-level function for histograms).\n",
            "  warnings.warn(msg, FutureWarning)\n"
          ]
        },
        {
          "output_type": "execute_result",
          "data": {
            "text/plain": [
              "<matplotlib.axes._subplots.AxesSubplot at 0x7ff77218f590>"
            ]
          },
          "metadata": {},
          "execution_count": 18
        },
        {
          "output_type": "display_data",
          "data": {
            "text/plain": [
              "<Figure size 432x288 with 1 Axes>"
            ],
            "image/png": "[encoded data removed]"
          },
          "metadata": {
            "needs_background": "light"
          }
        }
      ]
    },
    {
      "cell_type": "code",
      "metadata": {
        "colab": {
          "base_uri": "https://localhost:8080/",
          "height": 318
        },
        "id": "GdK00mpDa7Nz",
        "outputId": "29d4a2de-2313-42cc-de05-3a6dd3ab3448"
      },
      "source": [
        "plt.figure(figsize=(12, 4))\n",
        "seaborn.boxplot(x=df[df.profile_age < 100].profile_age)"
      ],
      "execution_count": 19,
      "outputs": [
        {
          "output_type": "execute_result",
          "data": {
            "text/plain": [
              "<matplotlib.axes._subplots.AxesSubplot at 0x7ff7720cfb50>"
            ]
          },
          "metadata": {},
          "execution_count": 19
        },
        {
          "output_type": "display_data",
          "data": {
            "text/plain": [
              "<Figure size 864x288 with 1 Axes>"
            ],
            "image/png": "[encoded data removed]"
          },
          "metadata": {
            "needs_background": "light"
          }
        }
      ]
    },
    {
      "cell_type": "markdown",
      "metadata": {
        "id": "tyx3Pmk-dJL4"
      },
      "source": [
        "Por ejemplo, podemos comparar la distribución de los salarios netos con respecto al nivel de estudios alcanzado."
      ]
    },
    {
      "cell_type": "code",
      "source": [
        "df[salary_col].max()"
      ],
      "metadata": {
        "colab": {
          "base_uri": "https://localhost:8080/"
        },
        "id": "v7EpE6Qz0qaw",
        "outputId": "907ce6ab-d71e-4ee4-a8ac-8d945c39b9d5"
      },
      "execution_count": 51,
      "outputs": [
        {
          "output_type": "execute_result",
          "data": {
            "text/plain": [
              "2180000.0"
            ]
          },
          "metadata": {},
          "execution_count": 51
        }
      ]
    },
    {
      "cell_type": "code",
      "source": [
        "df['profile_studies_level'].value_counts().values"
      ],
      "metadata": {
        "colab": {
          "base_uri": "https://localhost:8080/"
        },
        "id": "5n7K9gmI1psF",
        "outputId": "b9cd783a-6e7b-40c4-a969-e9c8d96636be"
      },
      "execution_count": 21,
      "outputs": [
        {
          "output_type": "execute_result",
          "data": {
            "text/plain": [
              "array([4133, 1135,  449,  342,   30,    4,    2])"
            ]
          },
          "metadata": {},
          "execution_count": 21
        }
      ]
    },
    {
      "cell_type": "code",
      "metadata": {
        "colab": {
          "base_uri": "https://localhost:8080/",
          "height": 410
        },
        "id": "W1dKgRP9gkHj",
        "outputId": "9a788d46-e7a6-4b00-9c7a-4185a76e1667"
      },
      "source": [
        "plt.figure(figsize=(12, 6))\n",
        "ax = seaborn.boxplot(data=df, x=salary_col, y='profile_studies_level',\n",
        "                color='orangered')\n",
        "plt.ticklabel_format(style='plain', axis='x')\n",
        "#ax.set_xlim(1,df[salary_col].max()+100000)\n",
        "\n",
        "# Agrego el númeroo de observaciones a cada boxplot. Pienso que es importante para conocer la relevancia de la distribución.\n",
        "\n",
        "# Calculate number of obs per group & median to position labels\n",
        "medians = df.groupby(['profile_studies_level'])['salary_monthly_BRUTO'].median().values\n",
        "nobs = df['profile_studies_level'].value_counts().values\n",
        "nobs = [str(x) for x in nobs.tolist()]\n",
        "nobs = [\"Obs:\" + i for i in nobs]\n",
        " \n",
        "# Add it to the plot\n",
        "pos = range(len(nobs))\n",
        "for tick,label in zip(pos,ax.get_yticklabels()):\n",
        "  ax.text(df[salary_col].max()+130000, tick, nobs[tick], fontsize=12, weight='semibold', color='green')\n"
      ],
      "execution_count": 65,
      "outputs": [
        {
          "output_type": "display_data",
          "data": {
            "text/plain": [
              "<Figure size 864x432 with 1 Axes>"
            ],
            "image/png": "[encoded data removed]"
          },
          "metadata": {
            "needs_background": "light"
          }
        }
      ]
    },
    {
      "cell_type": "markdown",
      "metadata": {
        "id": "HClH-TMBhMfg"
      },
      "source": [
        "**¿Qué puede estar causando una diferencia tan grande en la distribución para las respuestas que dicen Posdoctorado?**"
      ]
    },
    {
      "cell_type": "markdown",
      "metadata": {
        "id": "yqHgU6mUhXSi"
      },
      "source": [
        "### Boxenplots\n",
        "\n",
        "Los boxplots tienen una gran desventaja: ocultan mucha información en la distribución de las colas. Por ejemplo, para la categoría Posdoctorado, sabemos que el 25% de los valores de sueldo neto es mayor que los ~650000 pesos. Pero no conocemos cómo se distribuyen. Para conjuntos de datos de gran tamaño, el 25% de los datos contiene mucha información.\n",
        "\n",
        "Un gráfico más informativo es el **boxenplot**, que visualiza más percentiles. Otra ventaja es la percepción del mismo debido al peso visual de las cajas: los datos en el rango intercuartílico no parecen muuuucho más importantes que los datos en las colas.\n",
        "\n",
        "Sin embargo, es aún más difícil de leer si buscamos exactitud, ya que los percentiles que definen el límite de cada caja se definen recursivamente y no decrecen linealmente."
      ]
    },
    {
      "cell_type": "code",
      "metadata": {
        "colab": {
          "base_uri": "https://localhost:8080/",
          "height": 410
        },
        "id": "evtF2AFChc06",
        "outputId": "8bfcaa03-5a48-4bde-a5df-b3b1b9a900b7"
      },
      "source": [
        "plt.figure(figsize=(12, 6))\n",
        "seaborn.boxenplot(data=df, x=salary_col, y='profile_studies_level',\n",
        "                color='orangered')\n",
        "plt.ticklabel_format(style='plain', axis='x')"
      ],
      "execution_count": null,
      "outputs": [
        {
          "output_type": "display_data",
          "data": {
            "text/plain": [
              "<Figure size 864x432 with 1 Axes>"
            ],
            "image/png": "[encoded data removed]"
          },
          "metadata": {
            "needs_background": "light"
          }
        }
      ]
    },
    {
      "cell_type": "markdown",
      "metadata": {
        "id": "81z4Ue6PkEZr"
      },
      "source": [
        "## Eliminación de valores extremos\n",
        "\n",
        "### Usando percentiles \n",
        "\n",
        "Una forma conservadora de eliminar valores extremos que estén afectando a la media, el rango y las visualizaciones es seleccionar un cierto porcentaje más extremo. Para eso, usamos los percentiles.\n",
        "\n",
        "Por ejemplo, podemos elegir quedarnos con el 99% de salarios más bajos, eliminando el 1%. Podemos calcular todos los percentiles para decidir cuál sería el más apropiado."
      ]
    },
    {
      "cell_type": "code",
      "metadata": {
        "colab": {
          "base_uri": "https://localhost:8080/"
        },
        "id": "-R7cIusV_1ri",
        "outputId": "f4c1242f-b76e-431c-e219-d074aa6e3a06"
      },
      "source": [
        "k = 90\n",
        "percentile_90 = df[salary_col].quantile(k / 100)\n",
        "n_below = len(df[df[salary_col] < percentile_90])\n",
        "n_above = len(df[df[salary_col] > percentile_90])\n",
        "print('Percentil {} de la columna {}: {}'.format(k, salary_col, percentile_90))\n",
        "print('% de datos menor que percentil {}: {}'.format(k, n_below / len(df)))\n",
        "print('% de datos mayor que percentil {}: {}'.format(k, n_above / len(df)))"
      ],
      "execution_count": null,
      "outputs": [
        {
          "output_type": "stream",
          "text": [
            "Percentil 90 de la columna salary_monthly_BRUTO: 220000.0\n",
            "% de datos menor que percentil 90: 0.8997538966365873\n",
            "% de datos mayor que percentil 90: 0.09581624282198524\n"
          ],
          "name": "stdout"
        }
      ]
    },
    {
      "cell_type": "code",
      "metadata": {
        "colab": {
          "base_uri": "https://localhost:8080/"
        },
        "id": "bWEgaBVvka9p",
        "outputId": "e7baf270-f52d-4ec8-8aa6-dce26d5584dd"
      },
      "source": [
        "df[salary_col].quantile([.95, .98, .99, .995, .998])"
      ],
      "execution_count": null,
      "outputs": [
        {
          "output_type": "execute_result",
          "data": {
            "text/plain": [
              "0.950     307150.0\n",
              "0.980     480000.0\n",
              "0.990     630600.0\n",
              "0.995     796240.0\n",
              "0.998    1032671.0\n",
              "Name: salary_monthly_BRUTO, dtype: float64"
            ]
          },
          "metadata": {
            "tags": []
          },
          "execution_count": 18
        }
      ]
    },
    {
      "cell_type": "code",
      "metadata": {
        "colab": {
          "base_uri": "https://localhost:8080/",
          "height": 318
        },
        "id": "A-2cG3unruwo",
        "outputId": "2e8308b6-f072-40ae-94c2-a84c123e8618"
      },
      "source": [
        "plt.figure(figsize=(12, 4))\n",
        "max_limit = df[salary_col].quantile(.98)\n",
        "seaborn.boxenplot(x=df[df[salary_col] < max_limit][salary_col])"
      ],
      "execution_count": null,
      "outputs": [
        {
          "output_type": "execute_result",
          "data": {
            "text/plain": [
              "<matplotlib.axes._subplots.AxesSubplot at 0x7f6c6c5dc410>"
            ]
          },
          "metadata": {
            "tags": []
          },
          "execution_count": 19
        },
        {
          "output_type": "display_data",
          "data": {
            "image/png": "[encoded data removed]",
            "text/plain": [
              "<Figure size 864x288 with 1 Axes>"
            ]
          },
          "metadata": {
            "tags": [],
            "needs_background": "light"
          }
        }
      ]
    },
    {
      "cell_type": "code",
      "metadata": {
        "colab": {
          "base_uri": "https://localhost:8080/",
          "height": 753
        },
        "id": "MWmor0akspwt",
        "outputId": "c07bcbd1-fb54-4b28-97a8-63df74c03b08"
      },
      "source": [
        "fig, axes = plt.subplots(figsize=(12, 12), nrows=3)\n",
        "max_limit = df[salary_col].quantile(.98)\n",
        "data = df[df[salary_col] < max_limit][salary_col]\n",
        "seaborn.histplot(x=data, ax=axes[0])\n",
        "seaborn.boxplot(x=data, ax=axes[1])\n",
        "seaborn.boxenplot(x=data, ax=axes[2])"
      ],
      "execution_count": null,
      "outputs": [
        {
          "output_type": "execute_result",
          "data": {
            "text/plain": [
              "<matplotlib.axes._subplots.AxesSubplot at 0x7f6c6c45ee50>"
            ]
          },
          "metadata": {
            "tags": []
          },
          "execution_count": 20
        },
        {
          "output_type": "display_data",
          "data": {
            "image/png": "[encoded data removed]",
            "text/plain": [
              "<Figure size 864x864 with 3 Axes>"
            ]
          },
          "metadata": {
            "tags": [],
            "needs_background": "light"
          }
        }
      ]
    },
    {
      "cell_type": "markdown",
      "metadata": {
        "id": "SBkKwLFltJwg"
      },
      "source": [
        "### Rango itercuartílico"
      ]
    },
    {
      "cell_type": "code",
      "metadata": {
        "id": "poVH7-0RFxqC"
      },
      "source": [
        "def clean_outliers_q3(dataset, column_name):\n",
        "    \"\"\"Returns dataset removing the outlier rows from column @column_name.\"\"\"\n",
        "    interesting_col = dataset[column_name]\n",
        "    # Here we can remove the outliers from both ends, or even add more restrictions.\n",
        "    mask_outlier = (interesting_col <= (2.5 * interesting_col.quantile(.75)))\n",
        "    return dataset[mask_outlier]"
      ],
      "execution_count": null,
      "outputs": []
    },
    {
      "cell_type": "code",
      "metadata": {
        "colab": {
          "base_uri": "https://localhost:8080/",
          "height": 319
        },
        "id": "MaZj8_fatXgo",
        "outputId": "86e80326-c724-4c21-c1de-b3c867c97e1a"
      },
      "source": [
        "fig = plt.figure(figsize=(12, 4))\n",
        "data = clean_outliers_q3(df, salary_col)[salary_col]\n",
        "seaborn.histplot(x=data)"
      ],
      "execution_count": null,
      "outputs": [
        {
          "output_type": "execute_result",
          "data": {
            "text/plain": [
              "<matplotlib.axes._subplots.AxesSubplot at 0x7f2c1acb1490>"
            ]
          },
          "metadata": {},
          "execution_count": 11
        },
        {
          "output_type": "display_data",
          "data": {
            "text/plain": [
              "<Figure size 864x288 with 1 Axes>"
            ],
            "image/png": "[encoded data removed]"
          },
          "metadata": {
            "needs_background": "light"
          }
        }
      ]
    },
    {
      "cell_type": "code",
      "metadata": {
        "id": "9RPNlz5-kjgD"
      },
      "source": [
        "def clean_outliers_sd(dataset, column_name):\n",
        "    \"\"\"Returns dataset removing the outlier rows from column @column_name.\"\"\"\n",
        "    interesting_col = dataset[column_name]\n",
        "    # Here we can remove the outliers from both ends, or even add more restrictions.\n",
        "    mask_outlier = (\n",
        "        numpy.abs(interesting_col - interesting_col.mean()) <=\n",
        "        (2.5 * interesting_col.std()))\n",
        "    return dataset[mask_outlier]"
      ],
      "execution_count": null,
      "outputs": []
    },
    {
      "cell_type": "code",
      "metadata": {
        "colab": {
          "base_uri": "https://localhost:8080/",
          "height": 319
        },
        "id": "bpQ28UwSGYAF",
        "outputId": "1269dc58-75be-4ca3-ef51-0bc241ee8cfe"
      },
      "source": [
        "fig = plt.figure(figsize=(12, 4))\n",
        "data = clean_outliers_sd(df, salary_col)[salary_col]\n",
        "seaborn.histplot(x=data)"
      ],
      "execution_count": null,
      "outputs": [
        {
          "output_type": "execute_result",
          "data": {
            "text/plain": [
              "<matplotlib.axes._subplots.AxesSubplot at 0x7f2c17e32a10>"
            ]
          },
          "metadata": {},
          "execution_count": 14
        },
        {
          "output_type": "display_data",
          "data": {
            "text/plain": [
              "<Figure size 864x288 with 1 Axes>"
            ],
            "image/png": "[encoded data removed]"
          },
          "metadata": {
            "needs_background": "light"
          }
        }
      ]
    },
    {
      "cell_type": "markdown",
      "source": [
        ""
      ],
      "metadata": {
        "id": "KY55pa57CW7T"
      }
    },
    {
      "cell_type": "markdown",
      "metadata": {
        "id": "fuDscbVqttGZ"
      },
      "source": [
        "### ¡Mirando los datos!\n",
        "\n",
        "¿Quiénes son los que cobran tanto?"
      ]
    },
    {
      "cell_type": "code",
      "metadata": {
        "colab": {
          "base_uri": "https://localhost:8080/",
          "height": 862
        },
        "id": "zIt2nJXvtx3g",
        "outputId": "68b04aad-5eca-4b3f-c3eb-4fdd61e5387f"
      },
      "source": [
        "df[df[salary_col] > df[salary_col].quantile(0.98)]"
      ],
      "execution_count": null,
      "outputs": [
        {
          "output_type": "execute_result",
          "data": {
            "text/html": [
              "<div>\n",
              "<style scoped>\n",
              "    .dataframe tbody tr th:only-of-type {\n",
              "        vertical-align: middle;\n",
              "    }\n",
              "\n",
              "    .dataframe tbody tr th {\n",
              "        vertical-align: top;\n",
              "    }\n",
              "\n",
              "    .dataframe thead th {\n",
              "        text-align: right;\n",
              "    }\n",
              "</style>\n",
              "<table border=\"1\" class=\"dataframe\">\n",
              "  <thead>\n",
              "    <tr style=\"text-align: right;\">\n",
              "      <th></th>\n",
              "      <th>profile_gender</th>\n",
              "      <th>profile_age</th>\n",
              "      <th>work_country</th>\n",
              "      <th>work_province</th>\n",
              "      <th>profile_years_experience</th>\n",
              "      <th>work_years_in_company</th>\n",
              "      <th>work_years_in_current_position</th>\n",
              "      <th>work_people_in_charge_of</th>\n",
              "      <th>profile_studies_level</th>\n",
              "      <th>profile_studies_level_state</th>\n",
              "      <th>profile_career</th>\n",
              "      <th>profile_university</th>\n",
              "      <th>profile_specialization_courses</th>\n",
              "      <th>profile_open_source_contributions</th>\n",
              "      <th>profile_programming_as_hobby</th>\n",
              "      <th>work_role</th>\n",
              "      <th>tools_platform</th>\n",
              "      <th>tools_programming_languages</th>\n",
              "      <th>tools_frameworks</th>\n",
              "      <th>tools_data_bases</th>\n",
              "      <th>tools_qa_testing</th>\n",
              "      <th>tools_IDEs</th>\n",
              "      <th>tools_work_pc_os</th>\n",
              "      <th>tools_cellphone_os</th>\n",
              "      <th>work_on_call_duty</th>\n",
              "      <th>salary_on_call_duty_charge</th>\n",
              "      <th>work_on_call_duty_charge_type</th>\n",
              "      <th>work_contract_type</th>\n",
              "      <th>salary_monthly_BRUTO</th>\n",
              "      <th>salary_monthly_NETO</th>\n",
              "      <th>salary_in_usd</th>\n",
              "      <th>salary_satisfaction</th>\n",
              "      <th>salary_comparison_last_semester</th>\n",
              "      <th>salary_has_bonus</th>\n",
              "      <th>salary_bonus_tied_to</th>\n",
              "      <th>salary_inflation_adjustment_2020</th>\n",
              "      <th>salary_percentage_inflation_adjustment_2020</th>\n",
              "      <th>salary_month_last_inflation_adjustment</th>\n",
              "      <th>work_has_violence_situations</th>\n",
              "      <th>profile_sexual_orientation</th>\n",
              "      <th>profile_has_disabilities</th>\n",
              "      <th>profile_has_disabilities_hiring_difficulties</th>\n",
              "      <th>company_employee_number</th>\n",
              "      <th>company_main_activity</th>\n",
              "      <th>company_recommended</th>\n",
              "      <th>company_diversity_policies</th>\n",
              "      <th>company_extra_benefits</th>\n",
              "      <th>company_best_companies_city</th>\n",
              "    </tr>\n",
              "  </thead>\n",
              "  <tbody>\n",
              "    <tr>\n",
              "      <th>261</th>\n",
              "      <td>Hombre</td>\n",
              "      <td>37</td>\n",
              "      <td>Argentina</td>\n",
              "      <td>Ciudad Autónoma de Buenos Aires</td>\n",
              "      <td>21.0</td>\n",
              "      <td>10.0</td>\n",
              "      <td>10.0</td>\n",
              "      <td>17</td>\n",
              "      <td>Universitario</td>\n",
              "      <td>Incompleto</td>\n",
              "      <td>NaN</td>\n",
              "      <td>NaN</td>\n",
              "      <td>No</td>\n",
              "      <td>Sí</td>\n",
              "      <td>Sí</td>\n",
              "      <td>VP / C-Level</td>\n",
              "      <td>Docker, Firebase, Google Cloud Platform/App En...</td>\n",
              "      <td>Bash/Shell, Go, HTML, Javascript, Perl, PHP, P...</td>\n",
              "      <td>jQuery, Rails, React.js</td>\n",
              "      <td>Google Cloud Storage, MariaDB, MySQL, Percona ...</td>\n",
              "      <td>Ninguna</td>\n",
              "      <td>Vi, Vim</td>\n",
              "      <td>GNU/Linux</td>\n",
              "      <td>Android</td>\n",
              "      <td>No</td>\n",
              "      <td>0.0</td>\n",
              "      <td>Porcentaje de mi sueldo</td>\n",
              "      <td>Full-Time</td>\n",
              "      <td>800000.0</td>\n",
              "      <td>500000.0</td>\n",
              "      <td>NaN</td>\n",
              "      <td>4</td>\n",
              "      <td>4</td>\n",
              "      <td>3+ sueldos</td>\n",
              "      <td>Mix de las anteriores</td>\n",
              "      <td>Uno</td>\n",
              "      <td>20.0</td>\n",
              "      <td>4</td>\n",
              "      <td>Jamás</td>\n",
              "      <td>Heterosexual</td>\n",
              "      <td>NaN</td>\n",
              "      <td>NaN</td>\n",
              "      <td>5001-10000</td>\n",
              "      <td>Producto basado en Software</td>\n",
              "      <td>9</td>\n",
              "      <td>9</td>\n",
              "      <td>Abono de celular, Capacitaciones y/o cursos, C...</td>\n",
              "      <td>NaN</td>\n",
              "    </tr>\n",
              "    <tr>\n",
              "      <th>318</th>\n",
              "      <td>Hombre</td>\n",
              "      <td>40</td>\n",
              "      <td>Argentina</td>\n",
              "      <td>Santa Fe</td>\n",
              "      <td>4.0</td>\n",
              "      <td>0.0</td>\n",
              "      <td>0.0</td>\n",
              "      <td>0</td>\n",
              "      <td>Posdoctorado</td>\n",
              "      <td>Completado</td>\n",
              "      <td>Licenciatura en Ciencias dela Computación</td>\n",
              "      <td>UNR - Universidad Nacional de Rosario</td>\n",
              "      <td>No</td>\n",
              "      <td>Sí</td>\n",
              "      <td>Sí</td>\n",
              "      <td>Developer</td>\n",
              "      <td>Linux</td>\n",
              "      <td>C++</td>\n",
              "      <td>Ninguno</td>\n",
              "      <td>Ninguna</td>\n",
              "      <td>google test</td>\n",
              "      <td>Vim</td>\n",
              "      <td>GNU/Linux</td>\n",
              "      <td>Android</td>\n",
              "      <td>No</td>\n",
              "      <td>0.0</td>\n",
              "      <td>Neto</td>\n",
              "      <td>Remoto (empresa de otro país)</td>\n",
              "      <td>650000.0</td>\n",
              "      <td>422500.0</td>\n",
              "      <td>Mi sueldo está dolarizado</td>\n",
              "      <td>3</td>\n",
              "      <td>4</td>\n",
              "      <td>No</td>\n",
              "      <td>No recibo bono</td>\n",
              "      <td>No</td>\n",
              "      <td>0.0</td>\n",
              "      <td>0</td>\n",
              "      <td>Jamás</td>\n",
              "      <td>¿Qué les importa?</td>\n",
              "      <td>NaN</td>\n",
              "      <td>NaN</td>\n",
              "      <td>1001-2000</td>\n",
              "      <td>Servicios / Consultoría de Software / Digital</td>\n",
              "      <td>8</td>\n",
              "      <td>10</td>\n",
              "      <td>Capacitaciones y/o cursos, Horarios flexibles,...</td>\n",
              "      <td>NaN</td>\n",
              "    </tr>\n",
              "    <tr>\n",
              "      <th>437</th>\n",
              "      <td>Hombre</td>\n",
              "      <td>36</td>\n",
              "      <td>Argentina</td>\n",
              "      <td>Ciudad Autónoma de Buenos Aires</td>\n",
              "      <td>17.0</td>\n",
              "      <td>4.0</td>\n",
              "      <td>4.0</td>\n",
              "      <td>15</td>\n",
              "      <td>Universitario</td>\n",
              "      <td>Incompleto</td>\n",
              "      <td>Ingeniería en Informática</td>\n",
              "      <td>UTN - Universidad Tecnológica Nacional</td>\n",
              "      <td>Sí, de forma particular</td>\n",
              "      <td>No</td>\n",
              "      <td>No</td>\n",
              "      <td>Manager / Director</td>\n",
              "      <td>Ninguna</td>\n",
              "      <td>Java</td>\n",
              "      <td>Ninguno</td>\n",
              "      <td>PostgreSQL</td>\n",
              "      <td>Ninguna</td>\n",
              "      <td>IntelliJ</td>\n",
              "      <td>macOS</td>\n",
              "      <td>iOS</td>\n",
              "      <td>Sí, pasiva</td>\n",
              "      <td>0.0</td>\n",
              "      <td>Porcentaje de mi sueldo</td>\n",
              "      <td>Full-Time</td>\n",
              "      <td>540000.0</td>\n",
              "      <td>380000.0</td>\n",
              "      <td>NaN</td>\n",
              "      <td>3</td>\n",
              "      <td>2</td>\n",
              "      <td>Un sueldo</td>\n",
              "      <td>Performance de la compañía</td>\n",
              "      <td>No</td>\n",
              "      <td>0.0</td>\n",
              "      <td>0</td>\n",
              "      <td>En un trabajo anterior</td>\n",
              "      <td>¿Qué les importa?</td>\n",
              "      <td>NaN</td>\n",
              "      <td>No</td>\n",
              "      <td>1001-2000</td>\n",
              "      <td>Producto basado en Software</td>\n",
              "      <td>7</td>\n",
              "      <td>10</td>\n",
              "      <td>Clases de gimnasia online, Comidas pagas / sub...</td>\n",
              "      <td>NaN</td>\n",
              "    </tr>\n",
              "    <tr>\n",
              "      <th>453</th>\n",
              "      <td>Hombre</td>\n",
              "      <td>34</td>\n",
              "      <td>Argentina</td>\n",
              "      <td>GBA</td>\n",
              "      <td>14.0</td>\n",
              "      <td>4.0</td>\n",
              "      <td>2.0</td>\n",
              "      <td>0</td>\n",
              "      <td>Universitario</td>\n",
              "      <td>Completado</td>\n",
              "      <td>Ingeniería en Informática</td>\n",
              "      <td>UM - Universidad de Morón</td>\n",
              "      <td>Sí, de forma particular</td>\n",
              "      <td>No</td>\n",
              "      <td>No</td>\n",
              "      <td>SysAdmin / DevOps / SRE</td>\n",
              "      <td>Amazon Web Services, Docker, Kubernetes, Linux...</td>\n",
              "      <td>Bash/Shell, Terraform</td>\n",
              "      <td>Terrafor</td>\n",
              "      <td>Amazon DynamoDB, Amazon RDS/Aurora, ElasticSea...</td>\n",
              "      <td>Ninguna</td>\n",
              "      <td>IntelliJ, Vim</td>\n",
              "      <td>macOS</td>\n",
              "      <td>iOS</td>\n",
              "      <td>No</td>\n",
              "      <td>0.0</td>\n",
              "      <td>Bruto</td>\n",
              "      <td>Remoto (empresa de otro país)</td>\n",
              "      <td>800000.0</td>\n",
              "      <td>NaN</td>\n",
              "      <td>NaN</td>\n",
              "      <td>4</td>\n",
              "      <td>4</td>\n",
              "      <td>Un sueldo</td>\n",
              "      <td>Performance individual</td>\n",
              "      <td>No</td>\n",
              "      <td>0.0</td>\n",
              "      <td>0</td>\n",
              "      <td>En un trabajo anterior</td>\n",
              "      <td>Oveja</td>\n",
              "      <td>NaN</td>\n",
              "      <td>No</td>\n",
              "      <td>11-50</td>\n",
              "      <td>Servicios / Consultoría de Software / Digital</td>\n",
              "      <td>10</td>\n",
              "      <td>8</td>\n",
              "      <td>Vacaciones flexibles (adicionales a las reglam...</td>\n",
              "      <td>Airbnb</td>\n",
              "    </tr>\n",
              "    <tr>\n",
              "      <th>467</th>\n",
              "      <td>Hombre</td>\n",
              "      <td>26</td>\n",
              "      <td>Argentina</td>\n",
              "      <td>Córdoba</td>\n",
              "      <td>6.5</td>\n",
              "      <td>1.5</td>\n",
              "      <td>1.5</td>\n",
              "      <td>0</td>\n",
              "      <td>Universitario</td>\n",
              "      <td>Completado</td>\n",
              "      <td>Ingeniería en Sistemas de Información</td>\n",
              "      <td>UTN - Universidad Tecnológica Nacional</td>\n",
              "      <td>Sí, los pagó un empleador</td>\n",
              "      <td>No</td>\n",
              "      <td>Sí</td>\n",
              "      <td>Developer</td>\n",
              "      <td>Amazon Web Services, Docker, Linux</td>\n",
              "      <td>Go, Python, Ruby</td>\n",
              "      <td>Flask, Rails</td>\n",
              "      <td>Amazon DynamoDB, Amazon RDS/Aurora, ElasticSea...</td>\n",
              "      <td>RSpec</td>\n",
              "      <td>IntelliJ, Visual Studio Code</td>\n",
              "      <td>macOS</td>\n",
              "      <td>iOS</td>\n",
              "      <td>No</td>\n",
              "      <td>0.0</td>\n",
              "      <td>Porcentaje de mi sueldo</td>\n",
              "      <td>Remoto (empresa de otro país)</td>\n",
              "      <td>515000.0</td>\n",
              "      <td>NaN</td>\n",
              "      <td>NaN</td>\n",
              "      <td>4</td>\n",
              "      <td>4</td>\n",
              "      <td>No</td>\n",
              "      <td>No recibo bono</td>\n",
              "      <td>No</td>\n",
              "      <td>0.0</td>\n",
              "      <td>0</td>\n",
              "      <td>Jamás</td>\n",
              "      <td>Heterosexual</td>\n",
              "      <td>NaN</td>\n",
              "      <td>No</td>\n",
              "      <td>201-500</td>\n",
              "      <td>Producto basado en Software</td>\n",
              "      <td>10</td>\n",
              "      <td>10</td>\n",
              "      <td>Horarios flexibles, Vacaciones flexibles (adic...</td>\n",
              "      <td>NaN</td>\n",
              "    </tr>\n",
              "    <tr>\n",
              "      <th>...</th>\n",
              "      <td>...</td>\n",
              "      <td>...</td>\n",
              "      <td>...</td>\n",
              "      <td>...</td>\n",
              "      <td>...</td>\n",
              "      <td>...</td>\n",
              "      <td>...</td>\n",
              "      <td>...</td>\n",
              "      <td>...</td>\n",
              "      <td>...</td>\n",
              "      <td>...</td>\n",
              "      <td>...</td>\n",
              "      <td>...</td>\n",
              "      <td>...</td>\n",
              "      <td>...</td>\n",
              "      <td>...</td>\n",
              "      <td>...</td>\n",
              "      <td>...</td>\n",
              "      <td>...</td>\n",
              "      <td>...</td>\n",
              "      <td>...</td>\n",
              "      <td>...</td>\n",
              "      <td>...</td>\n",
              "      <td>...</td>\n",
              "      <td>...</td>\n",
              "      <td>...</td>\n",
              "      <td>...</td>\n",
              "      <td>...</td>\n",
              "      <td>...</td>\n",
              "      <td>...</td>\n",
              "      <td>...</td>\n",
              "      <td>...</td>\n",
              "      <td>...</td>\n",
              "      <td>...</td>\n",
              "      <td>...</td>\n",
              "      <td>...</td>\n",
              "      <td>...</td>\n",
              "      <td>...</td>\n",
              "      <td>...</td>\n",
              "      <td>...</td>\n",
              "      <td>...</td>\n",
              "      <td>...</td>\n",
              "      <td>...</td>\n",
              "      <td>...</td>\n",
              "      <td>...</td>\n",
              "      <td>...</td>\n",
              "      <td>...</td>\n",
              "      <td>...</td>\n",
              "    </tr>\n",
              "    <tr>\n",
              "      <th>5819</th>\n",
              "      <td>Hombre</td>\n",
              "      <td>35</td>\n",
              "      <td>Argentina</td>\n",
              "      <td>Ciudad Autónoma de Buenos Aires</td>\n",
              "      <td>10.0</td>\n",
              "      <td>10.0</td>\n",
              "      <td>10.0</td>\n",
              "      <td>0</td>\n",
              "      <td>Universitario</td>\n",
              "      <td>En curso</td>\n",
              "      <td>Tecnicatura Superior en Análisis de Sistemas</td>\n",
              "      <td>UAI - Universidad Abierta Interamericana</td>\n",
              "      <td>Sí, de forma particular, Sí, los pagó un emple...</td>\n",
              "      <td>No</td>\n",
              "      <td>Sí</td>\n",
              "      <td>HelpDesk</td>\n",
              "      <td>Google Cloud Platform/App Engine, Linux, Windo...</td>\n",
              "      <td>Java, Python, SQL</td>\n",
              "      <td>jQuery, WordPress</td>\n",
              "      <td>Google Cloud Storage, Microsoft SQL Server, Or...</td>\n",
              "      <td>Ninguna de las anteriores</td>\n",
              "      <td>Android Studio, IPython / Jupyter, Visual Stud...</td>\n",
              "      <td>Windows</td>\n",
              "      <td>Android</td>\n",
              "      <td>No</td>\n",
              "      <td>0.0</td>\n",
              "      <td>Bruto</td>\n",
              "      <td>Part-Time</td>\n",
              "      <td>986840.0</td>\n",
              "      <td>836400.0</td>\n",
              "      <td>NaN</td>\n",
              "      <td>4</td>\n",
              "      <td>3</td>\n",
              "      <td>Menos de un sueldo</td>\n",
              "      <td>Mix de las anteriores</td>\n",
              "      <td>Dos</td>\n",
              "      <td>23.0</td>\n",
              "      <td>7</td>\n",
              "      <td>Jamás</td>\n",
              "      <td>Heterosexual</td>\n",
              "      <td>NaN</td>\n",
              "      <td>NaN</td>\n",
              "      <td>2001-5000</td>\n",
              "      <td>Otras industrias</td>\n",
              "      <td>9</td>\n",
              "      <td>8</td>\n",
              "      <td>Abono de Internet, Capacitaciones y/o cursos, ...</td>\n",
              "      <td>NaN</td>\n",
              "    </tr>\n",
              "    <tr>\n",
              "      <th>5844</th>\n",
              "      <td>Hombre</td>\n",
              "      <td>28</td>\n",
              "      <td>Argentina</td>\n",
              "      <td>Ciudad Autónoma de Buenos Aires</td>\n",
              "      <td>8.0</td>\n",
              "      <td>0.0</td>\n",
              "      <td>8.0</td>\n",
              "      <td>0</td>\n",
              "      <td>Universitario</td>\n",
              "      <td>En curso</td>\n",
              "      <td>Ingeniería en Sistemas de Información</td>\n",
              "      <td>UTN - Universidad Tecnológica Nacional</td>\n",
              "      <td>No</td>\n",
              "      <td>No</td>\n",
              "      <td>No</td>\n",
              "      <td>Developer</td>\n",
              "      <td>Firebase</td>\n",
              "      <td>Objective-C, Swift</td>\n",
              "      <td>Ninguno de los anteriores</td>\n",
              "      <td>SQLite</td>\n",
              "      <td>Postman</td>\n",
              "      <td>Xcode</td>\n",
              "      <td>macOS</td>\n",
              "      <td>iOS</td>\n",
              "      <td>No</td>\n",
              "      <td>0.0</td>\n",
              "      <td>Bruto</td>\n",
              "      <td>Full-Time</td>\n",
              "      <td>2000000.0</td>\n",
              "      <td>150000.0</td>\n",
              "      <td>NaN</td>\n",
              "      <td>3</td>\n",
              "      <td>3</td>\n",
              "      <td>De uno a tres sueldos</td>\n",
              "      <td>Mix de las anteriores</td>\n",
              "      <td>Uno</td>\n",
              "      <td>10.0</td>\n",
              "      <td>7</td>\n",
              "      <td>En un trabajo anterior</td>\n",
              "      <td>Heterosexual</td>\n",
              "      <td>NaN</td>\n",
              "      <td>NaN</td>\n",
              "      <td>201-500</td>\n",
              "      <td>Producto basado en Software</td>\n",
              "      <td>9</td>\n",
              "      <td>9</td>\n",
              "      <td>Capacitaciones y/o cursos, Clases de gimnasia ...</td>\n",
              "      <td>NaN</td>\n",
              "    </tr>\n",
              "    <tr>\n",
              "      <th>5878</th>\n",
              "      <td>Hombre</td>\n",
              "      <td>54</td>\n",
              "      <td>Argentina</td>\n",
              "      <td>Ciudad Autónoma de Buenos Aires</td>\n",
              "      <td>36.0</td>\n",
              "      <td>34.0</td>\n",
              "      <td>8.0</td>\n",
              "      <td>2500</td>\n",
              "      <td>Posgrado</td>\n",
              "      <td>Completado</td>\n",
              "      <td>Ingeniería en Sistemas de Información</td>\n",
              "      <td>UAI - Universidad Abierta Interamericana</td>\n",
              "      <td>Sí, de forma particular, Sí, los pagó un emple...</td>\n",
              "      <td>No</td>\n",
              "      <td>Sí</td>\n",
              "      <td>Manager / Director</td>\n",
              "      <td>Amazon Web Services, Azure, Docker, IBM Cloud ...</td>\n",
              "      <td>.NET, C#, COBOL, HTML, Java, Ruby, SQL</td>\n",
              "      <td>.NET Core, Angular, Bootstrap, Cordova, Hibernate</td>\n",
              "      <td>IBM Db2, Microsoft SQL Server, Oracle</td>\n",
              "      <td>HP LoadRunner, Puppeteer, Visual Studio Coded UI</td>\n",
              "      <td>Android Studio, Eclipse, Visual Studio</td>\n",
              "      <td>Windows</td>\n",
              "      <td>iOS</td>\n",
              "      <td>No</td>\n",
              "      <td>0.0</td>\n",
              "      <td>Porcentaje de mi sueldo</td>\n",
              "      <td>Full-Time</td>\n",
              "      <td>750000.0</td>\n",
              "      <td>480000.0</td>\n",
              "      <td>NaN</td>\n",
              "      <td>4</td>\n",
              "      <td>4</td>\n",
              "      <td>No</td>\n",
              "      <td>No recibo bono</td>\n",
              "      <td>Dos</td>\n",
              "      <td>20.0</td>\n",
              "      <td>7</td>\n",
              "      <td>Jamás</td>\n",
              "      <td>Heterosexual</td>\n",
              "      <td>NaN</td>\n",
              "      <td>NaN</td>\n",
              "      <td>10001+</td>\n",
              "      <td>Otras industrias</td>\n",
              "      <td>7</td>\n",
              "      <td>5</td>\n",
              "      <td>Abono de celular, Capacitaciones y/o cursos, C...</td>\n",
              "      <td>NaN</td>\n",
              "    </tr>\n",
              "    <tr>\n",
              "      <th>5880</th>\n",
              "      <td>Hombre</td>\n",
              "      <td>36</td>\n",
              "      <td>Argentina</td>\n",
              "      <td>Ciudad Autónoma de Buenos Aires</td>\n",
              "      <td>14.0</td>\n",
              "      <td>4.0</td>\n",
              "      <td>1.0</td>\n",
              "      <td>30</td>\n",
              "      <td>Posgrado</td>\n",
              "      <td>Completado</td>\n",
              "      <td>Ingeniería en Sistemas de Información</td>\n",
              "      <td>UTN - Universidad Tecnológica Nacional</td>\n",
              "      <td>Sí, de forma particular, Sí, los pagó un emple...</td>\n",
              "      <td>No</td>\n",
              "      <td>No</td>\n",
              "      <td>Manager / Director</td>\n",
              "      <td>Amazon Web Services, Docker, Kubernetes, Linux</td>\n",
              "      <td>Java</td>\n",
              "      <td>Hibernate, Spring</td>\n",
              "      <td>Cassandra, PostgreSQL, Redis</td>\n",
              "      <td>JUnit, Postman, Selenium</td>\n",
              "      <td>IntelliJ</td>\n",
              "      <td>macOS</td>\n",
              "      <td>Android</td>\n",
              "      <td>Sí, activa</td>\n",
              "      <td>0.0</td>\n",
              "      <td>Bruto</td>\n",
              "      <td>Full-Time</td>\n",
              "      <td>540000.0</td>\n",
              "      <td>320000.0</td>\n",
              "      <td>Mi sueldo está dolarizado</td>\n",
              "      <td>3</td>\n",
              "      <td>3</td>\n",
              "      <td>Un sueldo</td>\n",
              "      <td>Performance de la compañía</td>\n",
              "      <td>No</td>\n",
              "      <td>0.0</td>\n",
              "      <td>0</td>\n",
              "      <td>Jamás</td>\n",
              "      <td>Heterosexual</td>\n",
              "      <td>NaN</td>\n",
              "      <td>NaN</td>\n",
              "      <td>2001-5000</td>\n",
              "      <td>Producto basado en Software</td>\n",
              "      <td>9</td>\n",
              "      <td>10</td>\n",
              "      <td>Clases de gimnasia online, Clases de idiomas, ...</td>\n",
              "      <td>NaN</td>\n",
              "    </tr>\n",
              "    <tr>\n",
              "      <th>6080</th>\n",
              "      <td>Hombre</td>\n",
              "      <td>30</td>\n",
              "      <td>Argentina</td>\n",
              "      <td>San Luis</td>\n",
              "      <td>5.0</td>\n",
              "      <td>2.0</td>\n",
              "      <td>2.0</td>\n",
              "      <td>0</td>\n",
              "      <td>Terciario</td>\n",
              "      <td>Incompleto</td>\n",
              "      <td>Tecnicatura en Programación</td>\n",
              "      <td>Universidad de la punta</td>\n",
              "      <td>Sí, de forma particular</td>\n",
              "      <td>Sí</td>\n",
              "      <td>Sí</td>\n",
              "      <td>SysAdmin / DevOps / SRE</td>\n",
              "      <td>Docker, Kubernetes, Linux, OpenShift, Windows ...</td>\n",
              "      <td>Assembler, Bash/Shell, C++, HTML, Java, PHP, P...</td>\n",
              "      <td>Ninguno de los anteriores</td>\n",
              "      <td>ElasticSearch, MongoDB, Percona Server</td>\n",
              "      <td>Ninguna de las anteriores</td>\n",
              "      <td>NetBeans, Notepad++, Sublime Text, Vim</td>\n",
              "      <td>GNU/Linux</td>\n",
              "      <td>Android</td>\n",
              "      <td>No</td>\n",
              "      <td>0.0</td>\n",
              "      <td>Bruto</td>\n",
              "      <td>Full-Time</td>\n",
              "      <td>580000.0</td>\n",
              "      <td>391000.0</td>\n",
              "      <td>Mi sueldo está dolarizado</td>\n",
              "      <td>2</td>\n",
              "      <td>2</td>\n",
              "      <td>Menos de un sueldo</td>\n",
              "      <td>Mix de las anteriores</td>\n",
              "      <td>No</td>\n",
              "      <td>0.0</td>\n",
              "      <td>1</td>\n",
              "      <td>En un trabajo anterior</td>\n",
              "      <td>Heterosexual</td>\n",
              "      <td>NaN</td>\n",
              "      <td>No</td>\n",
              "      <td>501-1000</td>\n",
              "      <td>Servicios / Consultoría de Software / Digital</td>\n",
              "      <td>10</td>\n",
              "      <td>10</td>\n",
              "      <td>Clases de idiomas, Estacionamiento gratuito / ...</td>\n",
              "      <td>Init ag, Computercenter, DKB, n26</td>\n",
              "    </tr>\n",
              "  </tbody>\n",
              "</table>\n",
              "<p>118 rows × 48 columns</p>\n",
              "</div>"
            ],
            "text/plain": [
              "     profile_gender  ...        company_best_companies_city\n",
              "261          Hombre  ...                                NaN\n",
              "318          Hombre  ...                                NaN\n",
              "437          Hombre  ...                                NaN\n",
              "453          Hombre  ...                             Airbnb\n",
              "467          Hombre  ...                                NaN\n",
              "...             ...  ...                                ...\n",
              "5819         Hombre  ...                                NaN\n",
              "5844         Hombre  ...                                NaN\n",
              "5878         Hombre  ...                                NaN\n",
              "5880         Hombre  ...                                NaN\n",
              "6080         Hombre  ...  Init ag, Computercenter, DKB, n26\n",
              "\n",
              "[118 rows x 48 columns]"
            ]
          },
          "metadata": {
            "tags": []
          },
          "execution_count": 23
        }
      ]
    },
    {
      "cell_type": "markdown",
      "source": [
        "Volvemos a las filminas"
      ],
      "metadata": {
        "id": "SfgRCnKUaUBH"
      }
    },
    {
      "cell_type": "markdown",
      "source": [
        "Datos vs Modelo\n",
        "\n",
        "QQplot"
      ],
      "metadata": {
        "id": "s-VSiRuLCXxg"
      }
    },
    {
      "cell_type": "code",
      "metadata": {
        "id": "2lzmzK1NuPNT"
      },
      "source": [
        ""
      ],
      "execution_count": null,
      "outputs": []
    }
  ]
}